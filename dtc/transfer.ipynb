{
 "cells": [
  {
   "cell_type": "code",
   "execution_count": 1,
   "id": "ccd688f1",
   "metadata": {},
   "outputs": [],
   "source": [
    "import frontmatter\n",
    "from glob import glob\n",
    "import datetime"
   ]
  },
  {
   "cell_type": "code",
   "execution_count": 2,
   "id": "547d1e89",
   "metadata": {},
   "outputs": [],
   "source": [
    "import os\n",
    "\n",
    "os.environ.setdefault(\"DJANGO_SETTINGS_MODULE\", \"dtc.settings\")\n",
    "os.environ[\"DJANGO_ALLOW_ASYNC_UNSAFE\"] = \"true\"\n",
    "\n",
    "import django\n",
    "django.setup()"
   ]
  },
  {
   "cell_type": "code",
   "execution_count": 3,
   "id": "8af05989",
   "metadata": {},
   "outputs": [],
   "source": [
    "from root.models import *"
   ]
  },
  {
   "cell_type": "code",
   "execution_count": 13,
   "id": "a259ce27",
   "metadata": {},
   "outputs": [],
   "source": [
    "import yaml"
   ]
  },
  {
   "cell_type": "code",
   "execution_count": 12,
   "id": "aecf7850",
   "metadata": {},
   "outputs": [],
   "source": [
    "path = '/home/larisa/projects/dtc_archive/datatalksclub.github.io'\n",
    "people_files = glob(path + '/_people/*.md')"
   ]
  },
  {
   "cell_type": "code",
   "execution_count": 5,
   "id": "fed7a36f",
   "metadata": {},
   "outputs": [
    {
     "name": "stdout",
     "output_type": "stream",
     "text": [
      "/home/larisa/projects/dtc_archive/datatalksclub.github.io/_people/janschlicht.md\n",
      "/home/larisa/projects/dtc_archive/datatalksclub.github.io/_people/ellenkonig.md\n",
      "/home/larisa/projects/dtc_archive/datatalksclub.github.io/_people/meysamasgarichenaghlu.md\n",
      "/home/larisa/projects/dtc_archive/datatalksclub.github.io/_people/16rahuljain.md\n",
      "/home/larisa/projects/dtc_archive/datatalksclub.github.io/_people/elenitziritazacharatou.md\n",
      "/home/larisa/projects/dtc_archive/datatalksclub.github.io/_people/agnieszkamikolajczyk.md\n",
      "/home/larisa/projects/dtc_archive/datatalksclub.github.io/_people/aparnadhinakaran.md\n",
      "/home/larisa/projects/dtc_archive/datatalksclub.github.io/_people/swyx.md\n",
      "/home/larisa/projects/dtc_archive/datatalksclub.github.io/_people/arpitchoudhury.md\n",
      "/home/larisa/projects/dtc_archive/datatalksclub.github.io/_people/rustemfeyzkhanov.md\n",
      "/home/larisa/projects/dtc_archive/datatalksclub.github.io/_people/jensalbrecht.md\n",
      "/home/larisa/projects/dtc_archive/datatalksclub.github.io/_people/denisegosnell.md\n",
      "/home/larisa/projects/dtc_archive/datatalksclub.github.io/_people/sararobinson.md\n",
      "/home/larisa/projects/dtc_archive/datatalksclub.github.io/_people/orlandohohmeier.md\n",
      "/home/larisa/projects/dtc_archive/datatalksclub.github.io/_people/olegnovikov.md\n",
      "/home/larisa/projects/dtc_archive/datatalksclub.github.io/_people/nastasiasaby.md\n",
      "/home/larisa/projects/dtc_archive/datatalksclub.github.io/_people/tomaszlelek.md\n",
      "/home/larisa/projects/dtc_archive/datatalksclub.github.io/_people/saramenefee.md\n",
      "/home/larisa/projects/dtc_archive/datatalksclub.github.io/_people/vinvashishta.md\n",
      "/home/larisa/projects/dtc_archive/datatalksclub.github.io/_people/alicjanotowska.md\n",
      "/home/larisa/projects/dtc_archive/datatalksclub.github.io/_people/nourkaressli.md\n",
      "/home/larisa/projects/dtc_archive/datatalksclub.github.io/_people/miguelmorales.md\n",
      "/home/larisa/projects/dtc_archive/datatalksclub.github.io/_people/sidharthramachandran.md\n",
      "/home/larisa/projects/dtc_archive/datatalksclub.github.io/_people/paulorland.md\n",
      "/home/larisa/projects/dtc_archive/datatalksclub.github.io/_people/sivanbiham.md\n",
      "/home/larisa/projects/dtc_archive/datatalksclub.github.io/_people/carminepaolino.md\n",
      "/home/larisa/projects/dtc_archive/datatalksclub.github.io/_people/alexioannides.md\n",
      "/home/larisa/projects/dtc_archive/datatalksclub.github.io/_people/ankurapatel.md\n",
      "/home/larisa/projects/dtc_archive/datatalksclub.github.io/_people/ivanbilan.md\n",
      "/home/larisa/projects/dtc_archive/datatalksclub.github.io/_people/adamsroka.md\n",
      "/home/larisa/projects/dtc_archive/datatalksclub.github.io/_people/demetriosbrinkmann.md\n",
      "/home/larisa/projects/dtc_archive/datatalksclub.github.io/_people/danbecker.md\n",
      "/home/larisa/projects/dtc_archive/datatalksclub.github.io/_people/christophmolnar.md\n",
      "/home/larisa/projects/dtc_archive/datatalksclub.github.io/_people/hanneshapke.md\n",
      "/home/larisa/projects/dtc_archive/datatalksclub.github.io/_people/michaelmunn.md\n",
      "/home/larisa/projects/dtc_archive/datatalksclub.github.io/_people/rachaeltatman.md\n",
      "/home/larisa/projects/dtc_archive/datatalksclub.github.io/_people/artemiifrolov.md\n",
      "/home/larisa/projects/dtc_archive/datatalksclub.github.io/_people/roksolanadiachuk.md\n",
      "/home/larisa/projects/dtc_archive/datatalksclub.github.io/_people/lukewhipps.md\n",
      "/home/larisa/projects/dtc_archive/datatalksclub.github.io/_people/noahgift.md\n",
      "/home/larisa/projects/dtc_archive/datatalksclub.github.io/_people/davidmertz.md\n",
      "/home/larisa/projects/dtc_archive/datatalksclub.github.io/_people/barbarasobkowiak.md\n",
      "/home/larisa/projects/dtc_archive/datatalksclub.github.io/_people/alexchung.md\n",
      "/home/larisa/projects/dtc_archive/datatalksclub.github.io/_people/savasyildirim.md\n",
      "/home/larisa/projects/dtc_archive/datatalksclub.github.io/_people/soledadgalli.md\n",
      "/home/larisa/projects/dtc_archive/datatalksclub.github.io/_people/markryan.md\n",
      "/home/larisa/projects/dtc_archive/datatalksclub.github.io/_people/mikiobraun.md\n",
      "/home/larisa/projects/dtc_archive/datatalksclub.github.io/_people/joshtobin.md\n",
      "/home/larisa/projects/dtc_archive/datatalksclub.github.io/_people/barrmoses.md\n",
      "/home/larisa/projects/dtc_archive/datatalksclub.github.io/_people/emilbogomolov.md\n",
      "/home/larisa/projects/dtc_archive/datatalksclub.github.io/_people/rahuljain.md\n",
      "/home/larisa/projects/dtc_archive/datatalksclub.github.io/_people/larysavisengeriyeva.md\n",
      "/home/larisa/projects/dtc_archive/datatalksclub.github.io/_people/emmanuelraj.md\n",
      "/home/larisa/projects/dtc_archive/datatalksclub.github.io/_people/victoriaperezmola.md\n",
      "/home/larisa/projects/dtc_archive/datatalksclub.github.io/_people/nataliekwong.md\n",
      "/home/larisa/projects/dtc_archive/datatalksclub.github.io/_people/maxschultze.md\n",
      "/home/larisa/projects/dtc_archive/datatalksclub.github.io/_people/jonskeet.md\n",
      "/home/larisa/projects/dtc_archive/datatalksclub.github.io/_people/raghavbali.md\n",
      "/home/larisa/projects/dtc_archive/datatalksclub.github.io/_people/kenyouens-clark.md\n",
      "/home/larisa/projects/dtc_archive/datatalksclub.github.io/_people/giuseppebonaccorso.md\n",
      "/home/larisa/projects/dtc_archive/datatalksclub.github.io/_people/jessiashdown.md\n",
      "/home/larisa/projects/dtc_archive/datatalksclub.github.io/_people/tatyjanaankudo.md\n",
      "/home/larisa/projects/dtc_archive/datatalksclub.github.io/_people/igorsusmelj.md\n",
      "/home/larisa/projects/dtc_archive/datatalksclub.github.io/_people/dannyma.md\n",
      "/home/larisa/projects/dtc_archive/datatalksclub.github.io/_people/iliaivanov.md\n",
      "/home/larisa/projects/dtc_archive/datatalksclub.github.io/_people/christianwinkler.md\n",
      "/home/larisa/projects/dtc_archive/datatalksclub.github.io/_people/sedatkapanoglu.md\n",
      "/home/larisa/projects/dtc_archive/datatalksclub.github.io/_people/svpino.md\n",
      "/home/larisa/projects/dtc_archive/datatalksclub.github.io/_people/davidstephenson.md\n",
      "/home/larisa/projects/dtc_archive/datatalksclub.github.io/_people/sauravmaheshkar.md\n",
      "/home/larisa/projects/dtc_archive/datatalksclub.github.io/_people/juanpablo.md\n",
      "/home/larisa/projects/dtc_archive/datatalksclub.github.io/_people/davidgates.md\n",
      "/home/larisa/projects/dtc_archive/datatalksclub.github.io/_people/vincenttatan.md\n",
      "/home/larisa/projects/dtc_archive/datatalksclub.github.io/_people/geojolly.md\n",
      "/home/larisa/projects/dtc_archive/datatalksclub.github.io/_people/sergmasis.md\n",
      "/home/larisa/projects/dtc_archive/datatalksclub.github.io/_people/eliasnema.md\n",
      "/home/larisa/projects/dtc_archive/datatalksclub.github.io/_people/caitlinmoorman.md\n",
      "/home/larisa/projects/dtc_archive/datatalksclub.github.io/_people/valeriybabushkin.md\n",
      "/home/larisa/projects/dtc_archive/datatalksclub.github.io/_people/admondleekinlim.md\n",
      "/home/larisa/projects/dtc_archive/datatalksclub.github.io/_people/manojkukreja.md\n",
      "/home/larisa/projects/dtc_archive/datatalksclub.github.io/_people/kimfalk.md\n",
      "/home/larisa/projects/dtc_archive/datatalksclub.github.io/_people/donjones.md\n",
      "/home/larisa/projects/dtc_archive/datatalksclub.github.io/_people/yurykashnitsky.md\n",
      "/home/larisa/projects/dtc_archive/datatalksclub.github.io/_people/sejalvaidya.md\n",
      "/home/larisa/projects/dtc_archive/datatalksclub.github.io/_people/padmachitturi.md\n",
      "/home/larisa/projects/dtc_archive/datatalksclub.github.io/_people/vincentwarmerdam.md\n",
      "/home/larisa/projects/dtc_archive/datatalksclub.github.io/_people/olegpolivin.md\n",
      "/home/larisa/projects/dtc_archive/datatalksclub.github.io/_people/villetuulos.md\n",
      "/home/larisa/projects/dtc_archive/datatalksclub.github.io/_people/guyadams.md\n",
      "/home/larisa/projects/dtc_archive/datatalksclub.github.io/_people/elleobrien.md\n",
      "/home/larisa/projects/dtc_archive/datatalksclub.github.io/_people/naominguyen.md\n",
      "/home/larisa/projects/dtc_archive/datatalksclub.github.io/_people/dougturnbull.md\n",
      "/home/larisa/projects/dtc_archive/datatalksclub.github.io/_people/pierpaoloippolito.md\n",
      "/home/larisa/projects/dtc_archive/datatalksclub.github.io/_people/liesbethdingemans.md\n",
      "/home/larisa/projects/dtc_archive/datatalksclub.github.io/_people/stefanjansen.md\n",
      "/home/larisa/projects/dtc_archive/datatalksclub.github.io/_people/mereltheisen.md\n",
      "/home/larisa/projects/dtc_archive/datatalksclub.github.io/_people/ericsims.md\n",
      "/home/larisa/projects/dtc_archive/datatalksclub.github.io/_people/meoramer.md\n",
      "/home/larisa/projects/dtc_archive/datatalksclub.github.io/_people/theofilospapapanagiotou.md\n",
      "/home/larisa/projects/dtc_archive/datatalksclub.github.io/_people/magdalenakonkiewicz.md\n",
      "/home/larisa/projects/dtc_archive/datatalksclub.github.io/_people/aaronwishnick.md\n",
      "/home/larisa/projects/dtc_archive/datatalksclub.github.io/_people/dannyleybzon.md\n",
      "/home/larisa/projects/dtc_archive/datatalksclub.github.io/_people/fabianaclemente.md\n",
      "/home/larisa/projects/dtc_archive/datatalksclub.github.io/_people/alexeygrigorev.md\n",
      "/home/larisa/projects/dtc_archive/datatalksclub.github.io/_people/linaweichbrodt.md\n",
      "/home/larisa/projects/dtc_archive/datatalksclub.github.io/_people/jeanineharb.md\n",
      "/home/larisa/projects/dtc_archive/datatalksclub.github.io/_people/agnesvanbelle.md\n",
      "/home/larisa/projects/dtc_archive/datatalksclub.github.io/_people/dmitrymuzalevskiy.md\n",
      "/home/larisa/projects/dtc_archive/datatalksclub.github.io/_people/martinkleppmann.md\n",
      "/home/larisa/projects/dtc_archive/datatalksclub.github.io/_people/kevinhuo.md\n",
      "/home/larisa/projects/dtc_archive/datatalksclub.github.io/_people/cjjenkins.md\n",
      "/home/larisa/projects/dtc_archive/datatalksclub.github.io/_people/willempienaar.md\n",
      "/home/larisa/projects/dtc_archive/datatalksclub.github.io/_people/laurencemoroney.md\n",
      "/home/larisa/projects/dtc_archive/datatalksclub.github.io/_people/andradaolteanu.md\n",
      "/home/larisa/projects/dtc_archive/datatalksclub.github.io/_people/susanwalsh.md\n",
      "/home/larisa/projects/dtc_archive/datatalksclub.github.io/_people/jonathanrioux.md\n",
      "/home/larisa/projects/dtc_archive/datatalksclub.github.io/_people/marijnmarkus.md\n",
      "/home/larisa/projects/dtc_archive/datatalksclub.github.io/_people/_template.md\n",
      "/home/larisa/projects/dtc_archive/datatalksclub.github.io/_people/andypetrella.md\n",
      "/home/larisa/projects/dtc_archive/datatalksclub.github.io/_people/filipacastro.md\n",
      "/home/larisa/projects/dtc_archive/datatalksclub.github.io/_people/eugeneyan.md\n",
      "/home/larisa/projects/dtc_archive/datatalksclub.github.io/_people/emelidral.md\n",
      "/home/larisa/projects/dtc_archive/datatalksclub.github.io/_people/illiatodor.md\n",
      "/home/larisa/projects/dtc_archive/datatalksclub.github.io/_people/tatianagabruseva.md\n",
      "/home/larisa/projects/dtc_archive/datatalksclub.github.io/_people/nickbilozerov.md\n",
      "/home/larisa/projects/dtc_archive/datatalksclub.github.io/_people/lindsaymcquade.md\n",
      "/home/larisa/projects/dtc_archive/datatalksclub.github.io/_people/mattharrison.md\n",
      "/home/larisa/projects/dtc_archive/datatalksclub.github.io/_people/jesseanderson.md\n",
      "/home/larisa/projects/dtc_archive/datatalksclub.github.io/_people/andreschumacher.md\n",
      "/home/larisa/projects/dtc_archive/datatalksclub.github.io/_people/neallathia.md\n",
      "/home/larisa/projects/dtc_archive/datatalksclub.github.io/_people/andreaskretz.md\n",
      "/home/larisa/projects/dtc_archive/datatalksclub.github.io/_people/dalianaliu.md\n",
      "/home/larisa/projects/dtc_archive/datatalksclub.github.io/_people/gantlaborde.md\n",
      "/home/larisa/projects/dtc_archive/datatalksclub.github.io/_people/larsalbertsson.md\n",
      "/home/larisa/projects/dtc_archive/datatalksclub.github.io/_people/royjafari.md\n",
      "/home/larisa/projects/dtc_archive/datatalksclub.github.io/_people/rishabhbhargava.md\n",
      "/home/larisa/projects/dtc_archive/datatalksclub.github.io/_people/janzawadzki.md\n",
      "/home/larisa/projects/dtc_archive/datatalksclub.github.io/_people/lalitpagaria.md\n",
      "/home/larisa/projects/dtc_archive/datatalksclub.github.io/_people/srivathsancanchi.md\n",
      "/home/larisa/projects/dtc_archive/datatalksclub.github.io/_people/mahmoudaziz.md\n",
      "/home/larisa/projects/dtc_archive/datatalksclub.github.io/_people/himanshuupreti.md\n",
      "/home/larisa/projects/dtc_archive/datatalksclub.github.io/_people/philwinder.md\n",
      "/home/larisa/projects/dtc_archive/datatalksclub.github.io/_people/anthonyvirtuoso.md\n",
      "/home/larisa/projects/dtc_archive/datatalksclub.github.io/_people/marcellolarocca.md\n",
      "/home/larisa/projects/dtc_archive/datatalksclub.github.io/_people/jakobgraff.md\n",
      "/home/larisa/projects/dtc_archive/datatalksclub.github.io/_people/itaiadmi.md\n",
      "/home/larisa/projects/dtc_archive/datatalksclub.github.io/_people/alexpetrov.md\n",
      "/home/larisa/projects/dtc_archive/datatalksclub.github.io/_people/antjebarth.md\n",
      "/home/larisa/projects/dtc_archive/datatalksclub.github.io/_people/andrewmcmahon.md\n",
      "/home/larisa/projects/dtc_archive/datatalksclub.github.io/_people/davebechberger.md\n",
      "/home/larisa/projects/dtc_archive/datatalksclub.github.io/_people/marianosemelman.md\n",
      "/home/larisa/projects/dtc_archive/datatalksclub.github.io/_people/kyleshannon.md\n",
      "/home/larisa/projects/dtc_archive/datatalksclub.github.io/_people/kateogochukwunwankwo.md\n",
      "/home/larisa/projects/dtc_archive/datatalksclub.github.io/_people/jacquespeeters.md\n",
      "/home/larisa/projects/dtc_archive/datatalksclub.github.io/_people/bentaylor.md\n",
      "/home/larisa/projects/dtc_archive/datatalksclub.github.io/_people/romangrebennikov.md\n",
      "/home/larisa/projects/dtc_archive/datatalksclub.github.io/_people/thomives.md\n",
      "/home/larisa/projects/dtc_archive/datatalksclub.github.io/_people/benwilson.md\n",
      "/home/larisa/projects/dtc_archive/datatalksclub.github.io/_people/alexiaaudevart.md\n",
      "/home/larisa/projects/dtc_archive/datatalksclub.github.io/_people/grainnemcknight.md\n",
      "/home/larisa/projects/dtc_archive/datatalksclub.github.io/_people/denisrothman.md\n",
      "/home/larisa/projects/dtc_archive/datatalksclub.github.io/_people/chrisfregly.md\n",
      "/home/larisa/projects/dtc_archive/datatalksclub.github.io/_people/elenasamuylova.md\n",
      "/home/larisa/projects/dtc_archive/datatalksclub.github.io/_people/gregcoquillo.md\n",
      "/home/larisa/projects/dtc_archive/datatalksclub.github.io/_people/mariannadiachuk.md\n",
      "/home/larisa/projects/dtc_archive/datatalksclub.github.io/_people/jessieyaros.md\n",
      "/home/larisa/projects/dtc_archive/datatalksclub.github.io/_people/luisserrano.md\n",
      "/home/larisa/projects/dtc_archive/datatalksclub.github.io/_people/yuliapavlova.md\n",
      "/home/larisa/projects/dtc_archive/datatalksclub.github.io/_people/nishantmohan.md\n",
      "/home/larisa/projects/dtc_archive/datatalksclub.github.io/_people/nicksingh.md\n",
      "/home/larisa/projects/dtc_archive/datatalksclub.github.io/_people/emmanuelameisen.md\n",
      "/home/larisa/projects/dtc_archive/datatalksclub.github.io/_people/ksenialegostay.md\n",
      "/home/larisa/projects/dtc_archive/datatalksclub.github.io/_people/arsenykravchenko.md\n",
      "/home/larisa/projects/dtc_archive/datatalksclub.github.io/_people/mervenoyan.md\n",
      "/home/larisa/projects/dtc_archive/datatalksclub.github.io/_people/tammyliang.md\n",
      "/home/larisa/projects/dtc_archive/datatalksclub.github.io/_people/nielsenaileen.md\n",
      "/home/larisa/projects/dtc_archive/datatalksclub.github.io/_people/mihaileric.md\n",
      "/home/larisa/projects/dtc_archive/datatalksclub.github.io/_people/dattran.md\n",
      "/home/larisa/projects/dtc_archive/datatalksclub.github.io/_people/wendymak.md\n",
      "/home/larisa/projects/dtc_archive/datatalksclub.github.io/_people/cristianmartinez.md\n",
      "/home/larisa/projects/dtc_archive/datatalksclub.github.io/_people/liorbarak.md\n",
      "/home/larisa/projects/dtc_archive/datatalksclub.github.io/_people/olgapetrova.md\n",
      "/home/larisa/projects/dtc_archive/datatalksclub.github.io/_people/parulpandey.md\n",
      "/home/larisa/projects/dtc_archive/datatalksclub.github.io/_people/prateekjoshi.md\n",
      "/home/larisa/projects/dtc_archive/datatalksclub.github.io/_people/marcodesa.md\n",
      "/home/larisa/projects/dtc_archive/datatalksclub.github.io/_people/duygualtinok.md\n",
      "/home/larisa/projects/dtc_archive/datatalksclub.github.io/_people/davidsweet.md\n",
      "/home/larisa/projects/dtc_archive/datatalksclub.github.io/_people/urigilad.md\n",
      "/home/larisa/projects/dtc_archive/datatalksclub.github.io/_people/maximlukichev.md\n"
     ]
    }
   ],
   "source": [
    "for person_file in people_files:\n",
    "    print(person_file)\n",
    "    if person_file.endswith('_template.md'):\n",
    "        continue\n",
    "    \n",
    "    person_fm = frontmatter.load(person_file)\n",
    "\n",
    "    person = Person()\n",
    "    person.id = person_fm['short']\n",
    "    person.name = person_fm['title']\n",
    "    person.bio = person_fm.content\n",
    "    person.profile_image = f\"https://datatalks.club/{person_fm['picture']}\"\n",
    "\n",
    "    socials = []\n",
    "\n",
    "    if 'github' in person_fm:\n",
    "        github = person_fm['github']\n",
    "        if github:\n",
    "            socials.append({\n",
    "                'type': 'github',\n",
    "                'link': f'https://github.com/{github}'\n",
    "            })\n",
    "\n",
    "    if 'twitter' in person_fm:\n",
    "        twitter = person_fm['twitter']\n",
    "        if twitter:\n",
    "            socials.append({\n",
    "                'type': 'twitter',\n",
    "                'link': f'https://twitter.com/{twitter}'\n",
    "            })\n",
    "\n",
    "    if 'linkedin' in person_fm:\n",
    "        linkedin = person_fm['linkedin']\n",
    "        if linkedin:\n",
    "            socials.append({\n",
    "                'type': 'linkedin',\n",
    "                'link': f'https://linkedin.com/in/{linkedin}'\n",
    "            })\n",
    "\n",
    "    if 'web' in person_fm:\n",
    "        web = person_fm['web']\n",
    "        if web:\n",
    "            socials.append({\n",
    "                'type': 'web',\n",
    "                'link': web\n",
    "            })\n",
    "\n",
    "    person.socials = socials\n",
    "    person.save()"
   ]
  },
  {
   "cell_type": "code",
   "execution_count": null,
   "id": "30e82b27",
   "metadata": {},
   "outputs": [],
   "source": []
  },
  {
   "cell_type": "code",
   "execution_count": null,
   "id": "188b7b90",
   "metadata": {},
   "outputs": [],
   "source": []
  },
  {
   "cell_type": "code",
   "execution_count": 6,
   "id": "5a7c302c",
   "metadata": {},
   "outputs": [
    {
     "data": {
      "text/plain": [
       "['/home/larisa/projects/dtc_archive/datatalksclub.github.io/_books/20220328-serverless-analytics-with-amazon-athena.md',\n",
       " '/home/larisa/projects/dtc_archive/datatalksclub.github.io/_books/20210531-advanced-algorithms-and-data-structures.md',\n",
       " '/home/larisa/projects/dtc_archive/datatalksclub.github.io/_books/20220131-effective-pandas.md',\n",
       " '/home/larisa/projects/dtc_archive/datatalksclub.github.io/_books/20210208-ml-design-patterns.md',\n",
       " '/home/larisa/projects/dtc_archive/datatalksclub.github.io/_books/20210308-designing-data-intensive-applications.md',\n",
       " '/home/larisa/projects/dtc_archive/datatalksclub.github.io/_books/20211018-blueprints-for-text-analytics-using-python.md',\n",
       " '/home/larisa/projects/dtc_archive/datatalksclub.github.io/_books/20220117-machine-learning-engineering-with-python.md',\n",
       " '/home/larisa/projects/dtc_archive/datatalksclub.github.io/_books/20211004-transfer-learning-in-action.md',\n",
       " '/home/larisa/projects/dtc_archive/datatalksclub.github.io/_books/20210222-ml-algotrading-2ed.md',\n",
       " '/home/larisa/projects/dtc_archive/datatalksclub.github.io/_books/20210510-the-coding-career-handbook.md',\n",
       " '/home/larisa/projects/dtc_archive/datatalksclub.github.io/_books/20210419-transformers-for-natural-language-processing.md',\n",
       " '/home/larisa/projects/dtc_archive/datatalksclub.github.io/_books/20210920-python-feature-engineering-cookbook.md',\n",
       " '/home/larisa/projects/dtc_archive/datatalksclub.github.io/_books/20220509-artificial-intelligence-with-python.md',\n",
       " '/home/larisa/projects/dtc_archive/datatalksclub.github.io/_books/20210329-learning-tensorflow-js.md',\n",
       " '/home/larisa/projects/dtc_archive/datatalksclub.github.io/_books/20220228-hands-on-data-preprocessing-in-python.md',\n",
       " '/home/larisa/projects/dtc_archive/datatalksclub.github.io/_books/20211213-mastering-spacy.md',\n",
       " '/home/larisa/projects/dtc_archive/datatalksclub.github.io/_books/20211025-data-analysis-with-python-and-pyspark.md',\n",
       " '/home/larisa/projects/dtc_archive/datatalksclub.github.io/_books/20210614-graph-databases-in-action.md',\n",
       " '/home/larisa/projects/dtc_archive/datatalksclub.github.io/_books/20210405-the-practitioners-guide-to-graph-data.md',\n",
       " '/home/larisa/projects/dtc_archive/datatalksclub.github.io/_books/20210705-engineering-mlops.md',\n",
       " '/home/larisa/projects/dtc_archive/datatalksclub.github.io/_books/20210517-grokking-deep-reinforcement-learning.md',\n",
       " '/home/larisa/projects/dtc_archive/datatalksclub.github.io/_books/20211122-building-machine-learning-powered-applications.md',\n",
       " '/home/larisa/projects/dtc_archive/datatalksclub.github.io/_books/20211101-ai-powered-search.md',\n",
       " '/home/larisa/projects/dtc_archive/datatalksclub.github.io/_books/20211129-own-your-tech-career.md',\n",
       " '/home/larisa/projects/dtc_archive/datatalksclub.github.io/_books/20210201-data-teams.md',\n",
       " '/home/larisa/projects/dtc_archive/datatalksclub.github.io/_books/20210719-interpretable-machine-learning-with-python.md',\n",
       " '/home/larisa/projects/dtc_archive/datatalksclub.github.io/_books/20210503-machine-learning-using-tensorflow-cookbook.md',\n",
       " '/home/larisa/projects/dtc_archive/datatalksclub.github.io/_books/20210125-mastering-ml-algorithms-2ed.md',\n",
       " '/home/larisa/projects/dtc_archive/datatalksclub.github.io/_books/20210927-effective-data-science-infrastructure.md',\n",
       " '/home/larisa/projects/dtc_archive/datatalksclub.github.io/_books/20220214-a-visual-introduction-to-deep-learning.md',\n",
       " '/home/larisa/projects/dtc_archive/datatalksclub.github.io/_books/20210426-tiny-python-projects.md',\n",
       " '/home/larisa/projects/dtc_archive/datatalksclub.github.io/_books/20210628-data-science-on-aws.md',\n",
       " '/home/larisa/projects/dtc_archive/datatalksclub.github.io/_books/20211115-ace-the-data-science-interview.md',\n",
       " '/home/larisa/projects/dtc_archive/datatalksclub.github.io/_books/20210621-cleaning-data-for-effective-data-science.md',\n",
       " '/home/larisa/projects/dtc_archive/datatalksclub.github.io/_books/20210524-data-governance-the-definitive-guide.md',\n",
       " '/home/larisa/projects/dtc_archive/datatalksclub.github.io/_books/20210913-dataops-for-dummies.md',\n",
       " '/home/larisa/projects/dtc_archive/datatalksclub.github.io/_books/20210809-grokking-machine-learning.md',\n",
       " '/home/larisa/projects/dtc_archive/datatalksclub.github.io/_books/20210322-street-coder.md',\n",
       " '/home/larisa/projects/dtc_archive/datatalksclub.github.io/_books/_template.md',\n",
       " '/home/larisa/projects/dtc_archive/datatalksclub.github.io/_books/20210301-ml-engineering.md',\n",
       " '/home/larisa/projects/dtc_archive/datatalksclub.github.io/_books/20210315-database-internals.md',\n",
       " '/home/larisa/projects/dtc_archive/datatalksclub.github.io/_books/20211206-deep-learning-with-fastai-cookbook.md',\n",
       " '/home/larisa/projects/dtc_archive/datatalksclub.github.io/_books/20220411-interpretable-machine-learning.md',\n",
       " '/home/larisa/projects/dtc_archive/datatalksclub.github.io/_books/20220314-data-engineering-with-apache-spark-delta-lake-and-lakehouse.md',\n",
       " '/home/larisa/projects/dtc_archive/datatalksclub.github.io/_books/20210215-math-for-programmers.md',\n",
       " '/home/larisa/projects/dtc_archive/datatalksclub.github.io/_books/20210816-tuning-up.md',\n",
       " '/home/larisa/projects/dtc_archive/datatalksclub.github.io/_books/20210726-applied-natural-language-processing-in-the-enterprise.md',\n",
       " '/home/larisa/projects/dtc_archive/datatalksclub.github.io/_books/20210412-ai-and-machine-learning-for-coders.md',\n",
       " '/home/larisa/projects/dtc_archive/datatalksclub.github.io/_books/20210607-building-machine-learning-pipelines.md',\n",
       " '/home/larisa/projects/dtc_archive/datatalksclub.github.io/_books/20211108-generative-ai-with-python-and-tensorflow-2.md',\n",
       " '/home/larisa/projects/dtc_archive/datatalksclub.github.io/_books/20210111-reinforcement-learning.md',\n",
       " '/home/larisa/projects/dtc_archive/datatalksclub.github.io/_books/20210802-practical-recommender-systems.md',\n",
       " '/home/larisa/projects/dtc_archive/datatalksclub.github.io/_books/20210823-business-skills-for-data-scientists.md',\n",
       " '/home/larisa/projects/dtc_archive/datatalksclub.github.io/_books/20211011-mastering-transformers.md',\n",
       " '/home/larisa/projects/dtc_archive/datatalksclub.github.io/_books/20210830-practical-mlops.md',\n",
       " '/home/larisa/projects/dtc_archive/datatalksclub.github.io/_books/20220523-practical-fairness.md',\n",
       " '/home/larisa/projects/dtc_archive/datatalksclub.github.io/_books/20210906-software-mistakes-and-tradeoffs.md',\n",
       " '/home/larisa/projects/dtc_archive/datatalksclub.github.io/_books/20210118-deep-learning-structured-data.md',\n",
       " '/home/larisa/projects/dtc_archive/datatalksclub.github.io/_books/20201214-ml-bookcamp.md',\n",
       " '/home/larisa/projects/dtc_archive/datatalksclub.github.io/_books/20210712-relevant-search.md']"
      ]
     },
     "execution_count": 6,
     "metadata": {},
     "output_type": "execute_result"
    }
   ],
   "source": [
    "books_files = glob(path + '/_books/*.md')\n",
    "books_files\n"
   ]
  },
  {
   "cell_type": "code",
   "execution_count": 7,
   "id": "fa685e7e",
   "metadata": {},
   "outputs": [
    {
     "name": "stdout",
     "output_type": "stream",
     "text": [
      "ups. author_id=Valliappa Lakshmanan does not exist\n",
      "ups. author_id=Sara Robinson does not exist\n",
      "ups. author_id=Dipanjan Sarkar does not exist\n",
      "ups. author_id=Josh Perryman does not exist\n",
      "ups. author_id=Trey Grainger does not exist\n",
      "ups. author_id=Max Irwin does not exist\n",
      "ups. author_id=Konrad Banachewicz does not exist\n",
      "ups. author_id=Luca Massaron does not exist\n",
      "ups. author_id=Evren Eryurek does not exist\n",
      "ups. author_id=Valliappa Lakshmanan does not exist\n",
      "ups. author_id=Anita Kibunguchy-Grant does not exist\n",
      "ups. author_id=Justin Mullen does not exist\n",
      "ups. author_id=Ajay Uppili Arasanipalai does not exist\n",
      "ups. author_id=Catherine Nelson does not exist\n",
      "ups. author_id=Joseph Babcock does not exist\n",
      "ups. author_id=Alfredo Deza does not exist\n",
      "ups. author_id=John Berryman does not exist\n"
     ]
    }
   ],
   "source": [
    "for book_file in books_files:\n",
    "#     print(book_file)\n",
    "    if book_file.endswith('_template.md'):\n",
    "        continue\n",
    "    book_fm = frontmatter.load(book_file)\n",
    "    book_id = book_file.split('/')[-1].split('.')[0]\n",
    "    \n",
    "    book = Book()\n",
    "    book.id = book_id\n",
    "    book.title = book_fm['title']\n",
    "    book.description = book_fm.content\n",
    "    # book.authors.set([Person.objects.get(id='anthonyvirtuoso')])\n",
    "    book.cover_image = f\"https://datatalks.club/{book_fm['cover']}\"\n",
    "    book.preview_image = f\"https://datatalks.club/{book_fm['image']}\"\n",
    "    book.start_date = book_fm['start']\n",
    "    book.end_date = book_fm['end']\n",
    "    book.links = book_fm['links']\n",
    "    if 'archive' in book_fm:\n",
    "        book.archive = book_fm['archive']\n",
    "    book.save()\n",
    "    \n",
    "    authors = []\n",
    "\n",
    "    for author_id in book_fm['authors']:\n",
    "        try:\n",
    "            author = Person.objects.get(id=author_id)\n",
    "            authors.append(author)\n",
    "        except:\n",
    "            print(f'ups. author_id={author_id} does not exist')\n",
    "    book.authors.set(authors)\n",
    "    book.save()"
   ]
  },
  {
   "cell_type": "code",
   "execution_count": null,
   "id": "4e8420d1",
   "metadata": {},
   "outputs": [],
   "source": []
  },
  {
   "cell_type": "code",
   "execution_count": 8,
   "id": "a897adb6",
   "metadata": {},
   "outputs": [],
   "source": [
    "podcast_files = glob(path + '/_podcast/*.md')\n",
    "\n",
    "for episode_file in podcast_files:\n",
    "    if episode_file.endswith('_template.md'):\n",
    "        continue \n",
    "\n",
    "    episode_fm = frontmatter.load(episode_file)\n",
    "    episode_id = episode_file.split('/')[-1].split('.')[0]\n",
    "    \n",
    "    episode = Podcast()\n",
    "    episode.id = episode_id\n",
    "    episode.title = episode_fm['title']\n",
    "    # episode.guests = \n",
    "    episode.preview_image = f\"https://datatalks.club/{episode_fm['image']}\"\n",
    "    episode.season = episode_fm['season']\n",
    "    episode.episode = episode_fm['episode']\n",
    "    episode.episode_links = episode_fm['links']\n",
    "    # episode.links_from_guests = \n",
    "    if 'transcript' in episode_fm:\n",
    "        episode.transcript = episode_fm['transcript']\n",
    "    episode.save()\n",
    "\n",
    "    guests = []\n",
    "\n",
    "    for guest_id in episode_fm['guests']:\n",
    "        guest = Person.objects.get(id=guest_id)\n",
    "        guests.append(guest)\n",
    "    episode.guests.set(guests)\n",
    "    episode.save()\n",
    "    "
   ]
  },
  {
   "cell_type": "code",
   "execution_count": 55,
   "id": "7258607b",
   "metadata": {},
   "outputs": [],
   "source": [
    "tags = ['team', 'process', 'podcast']"
   ]
  },
  {
   "cell_type": "code",
   "execution_count": 60,
   "id": "8352b2b6",
   "metadata": {},
   "outputs": [],
   "source": [
    "\n",
    "s = set()"
   ]
  },
  {
   "cell_type": "code",
   "execution_count": 61,
   "id": "773d7d1a",
   "metadata": {},
   "outputs": [],
   "source": [
    "for tag in tags:\n",
    "    s.add(tag)"
   ]
  },
  {
   "cell_type": "code",
   "execution_count": 59,
   "id": "d57ebdc9",
   "metadata": {},
   "outputs": [],
   "source": [
    "s.update(tags)"
   ]
  },
  {
   "cell_type": "code",
   "execution_count": 62,
   "id": "7f7b453b",
   "metadata": {},
   "outputs": [
    {
     "data": {
      "text/plain": [
       "{'podcast', 'process', 'team'}"
      ]
     },
     "execution_count": 62,
     "metadata": {},
     "output_type": "execute_result"
    }
   ],
   "source": [
    "s"
   ]
  },
  {
   "cell_type": "code",
   "execution_count": 19,
   "id": "92301388",
   "metadata": {},
   "outputs": [
    {
     "data": {
      "text/plain": [
       "'We talked about:\\n\\n- Lars’ career\\n- Doing DataOps before it existed\\n- What is DataOps\\n- Data platform\\n- Data warehouses and data lakes\\n- Main components of the data platform and tools to implement it\\n- Books about functional programming principles\\n- Batch vs streaming\\n- Maturity levels\\n- Building self-service tools\\n- MLOps vs DataOps\\n- Data Mesh\\n- Lake house\\n\\n\\nLinks:\\n\\n- [https://www.scling.com/reading-list](https://www.scling.com/reading-list){:target=\"_blank\"}\\n- [https://www.scling.com/presentations](https://www.scling.com/presentations){:target=\"_blank\"}'"
      ]
     },
     "execution_count": 19,
     "metadata": {},
     "output_type": "execute_result"
    }
   ],
   "source": [
    "episod_fm.content"
   ]
  },
  {
   "cell_type": "code",
   "execution_count": 9,
   "id": "9b1d57a6",
   "metadata": {},
   "outputs": [],
   "source": [
    "rtags = set()\n",
    "posts_files = glob(path + '/_posts/*.md')\n",
    "# post_file = posts_files[0]\n",
    "for post_file in posts_files:\n",
    "    post_fm = frontmatter.load(post_file)\n",
    "    rtags.update(post_fm['tags'])\n",
    "for rtag in rtags:\n",
    "    tag = Tag()\n",
    "    tag.id = rtag\n",
    "    tag.name = rtag\n",
    "    tag.save()"
   ]
  },
  {
   "cell_type": "code",
   "execution_count": null,
   "id": "9e561193",
   "metadata": {},
   "outputs": [],
   "source": []
  },
  {
   "cell_type": "code",
   "execution_count": null,
   "id": "2725732d",
   "metadata": {},
   "outputs": [],
   "source": []
  },
  {
   "cell_type": "code",
   "execution_count": null,
   "id": "109de9e6",
   "metadata": {},
   "outputs": [],
   "source": []
  },
  {
   "cell_type": "code",
   "execution_count": 10,
   "id": "527ff8a6",
   "metadata": {
    "scrolled": true
   },
   "outputs": [],
   "source": [
    "posts_files = glob(path + '/_posts/*.md')\n",
    "# post_file = posts_files[0]\n",
    "# post_file"
   ]
  },
  {
   "cell_type": "code",
   "execution_count": 11,
   "id": "339f6aac",
   "metadata": {},
   "outputs": [],
   "source": [
    "for post_file in posts_files:\n",
    "    \n",
    "    post_fm = frontmatter.load(post_file)\n",
    "    post_id = post_file.split('/')[-1].split('.')[0][11:]\n",
    "    \n",
    "    post = Post()\n",
    "    post.id = post_id\n",
    "    post.title = post_fm['title']\n",
    "    if 'subtitle' in post_fm:\n",
    "        post.subtitle = post_fm['subtitle']\n",
    "    post.preview_image = f\"https://datatalks.club/{post_fm['image']}\"\n",
    "    post.created_at = post_file.split('/')[-1].split('.')[0][:10]\n",
    "    post.modified_at = post_file.split('/')[-1].split('.')[0][:10]\n",
    "    post.content = post_fm.content\n",
    "    post.save()\n",
    "\n",
    "    authors = []\n",
    "\n",
    "    for author_id in post_fm['authors']:\n",
    "        author = Person.objects.get(id=author_id)\n",
    "        authors.append(author)\n",
    "    post.authors.set(authors)\n",
    "    post.save()\n",
    "\n",
    "    tags = []\n",
    "\n",
    "    for tag_id in post_fm['tags']:\n",
    "        tag = Tag.objects.get(id=tag_id)\n",
    "        tags.append(tag)\n",
    "    post.tags.set(tags)\n",
    "    post.save()\n",
    "\n"
   ]
  },
  {
   "cell_type": "code",
   "execution_count": 77,
   "id": "52ac7e7f",
   "metadata": {},
   "outputs": [],
   "source": []
  },
  {
   "cell_type": "code",
   "execution_count": 12,
   "id": "1a7cf5cf",
   "metadata": {},
   "outputs": [
    {
     "data": {
      "text/plain": [
       "['/home/larisa/projects/dtc_archive/datatalksclub.github.io/_tools/obsei.md',\n",
       " '/home/larisa/projects/dtc_archive/datatalksclub.github.io/_tools/modelstore.md']"
      ]
     },
     "execution_count": 12,
     "metadata": {},
     "output_type": "execute_result"
    }
   ],
   "source": [
    "tools_files = glob(path + '/_tools/*.md')\n",
    "# tools_file = tools_files[0]\n",
    "tools_files\n"
   ]
  },
  {
   "cell_type": "code",
   "execution_count": 14,
   "id": "4e910876",
   "metadata": {},
   "outputs": [],
   "source": [
    "for tool_file in tools_files:\n",
    "    tool_fm = frontmatter.load(tool_file)\n",
    "    # tool_fm.to_dict()\n",
    "    tool_id = tool_file.split('/')[-1].split('.')[0]\n",
    "    \n",
    "    tool = Tool()\n",
    "    tool.id = tool_id\n",
    "    tool.title = tool_fm['name']\n",
    "    # tool.description = \n",
    "    # tool.icon_picture = \n",
    "    # tool.preview_image = \n",
    "    tool.youtube_link = tool_fm['demo']\n",
    "    if 'github' in tool_fm:\n",
    "        tool.links = tool_fm['github']\n",
    "    tool.created_at = datetime.datetime.now()\n",
    "    tool.save()\n",
    "\n",
    "    speakers = []\n",
    "\n",
    "    for speaker_id in tool_fm['who']:\n",
    "        speaker = Person.objects.get(id=speaker_id)\n",
    "        speakers.append(speaker)\n",
    "    tool.speakers.set(speakers)\n",
    "    tool.save()\n",
    "\n",
    "    tags = []\n",
    "     \n",
    "\n",
    "    for tag_id in tool_fm['categories']:\n",
    "        \n",
    "        if not Tag.objects.filter(pk=tag_id).exists():\n",
    "            tag = Tag()\n",
    "            tag.id = tag_id\n",
    "            tag.name = tag_id\n",
    "            tag.save()\n",
    "        tag = Tag.objects.get(id=tag_id)\n",
    "        tags.append(tag)\n",
    "    tool.tags.set(tags)\n",
    "    tool.save()\n"
   ]
  },
  {
   "cell_type": "code",
   "execution_count": 96,
   "id": "6e369d6c",
   "metadata": {},
   "outputs": [],
   "source": [
    "\n"
   ]
  },
  {
   "cell_type": "code",
   "execution_count": 94,
   "id": "589fd036",
   "metadata": {},
   "outputs": [],
   "source": [
    "\n"
   ]
  },
  {
   "cell_type": "code",
   "execution_count": null,
   "id": "1e971140",
   "metadata": {},
   "outputs": [],
   "source": []
  },
  {
   "cell_type": "code",
   "execution_count": null,
   "id": "52e3333d",
   "metadata": {},
   "outputs": [],
   "source": []
  },
  {
   "cell_type": "code",
   "execution_count": 14,
   "id": "a7ef733d",
   "metadata": {},
   "outputs": [],
   "source": [
    "courses_file = glob(path + '/_courses/*.md')\n",
    "course_file = courses_file[0]\n",
    "course_fm = frontmatter.load(course_file) \n",
    "# course_fm.to_dict()"
   ]
  },
  {
   "cell_type": "code",
   "execution_count": 19,
   "id": "2dd6f952",
   "metadata": {},
   "outputs": [
    {
     "data": {
      "text/plain": [
       "['/home/larisa/projects/dtc_archive/datatalksclub.github.io/_courses/2021-winter-ml-zoomcamp.md']"
      ]
     },
     "execution_count": 19,
     "metadata": {},
     "output_type": "execute_result"
    }
   ],
   "source": [
    "course_file"
   ]
  },
  {
   "cell_type": "code",
   "execution_count": 6,
   "id": "c43787af",
   "metadata": {},
   "outputs": [],
   "source": [
    "course_id = course_file.split('/')[-1].split('.')[0]"
   ]
  },
  {
   "cell_type": "code",
   "execution_count": 7,
   "id": "a5102c20",
   "metadata": {},
   "outputs": [],
   "source": [
    "def convert_date(dt):\n",
    "    return {\n",
    "        'year': dt.year,\n",
    "        'month': dt.month,\n",
    "        'day': dt.day\n",
    "    }"
   ]
  },
  {
   "cell_type": "code",
   "execution_count": 8,
   "id": "50e5de76",
   "metadata": {},
   "outputs": [
    {
     "data": {
      "text/plain": [
       "{'year': 2021, 'month': 9, 'day': 6}"
      ]
     },
     "execution_count": 8,
     "metadata": {},
     "output_type": "execute_result"
    }
   ],
   "source": [
    "convert_date(course_fm['schedule'][0]['start'])"
   ]
  },
  {
   "cell_type": "code",
   "execution_count": 9,
   "id": "c5d8423e",
   "metadata": {},
   "outputs": [],
   "source": [
    "for item in course_fm['schedule']:\n",
    "    item['start'] = convert_date(item['start'])"
   ]
  },
  {
   "cell_type": "code",
   "execution_count": 10,
   "id": "bec1abd1",
   "metadata": {},
   "outputs": [
    {
     "data": {
      "text/plain": [
       "[{'name': 'alexeygrigorev', 'role': 'Instructor'},\n",
       " {'name': 'dmitrymuzalevskiy', 'role': 'Teaching Assistant'},\n",
       " {'name': 'wendymak', 'role': 'Teaching Assistant'}]"
      ]
     },
     "execution_count": 10,
     "metadata": {},
     "output_type": "execute_result"
    }
   ],
   "source": [
    "course_fm['team']"
   ]
  },
  {
   "cell_type": "code",
   "execution_count": 11,
   "id": "0885d8a1",
   "metadata": {
    "scrolled": true
   },
   "outputs": [],
   "source": [
    "course = Course()\n",
    "course.id = course_id\n",
    "course.title = course_fm['title']\n",
    "course.short_description = course_fm['description']\n",
    "course.cover_image = f\"https://datatalks.club/{course_fm['image']}\"\n",
    "course.start_date = '2021-09-06'\n",
    "course.end_date = '2022-01-31'\n",
    "course.syllabus = course_fm['schedule']\n",
    "course.partners = course_fm['partners']\n",
    "# course.registration_link\n",
    "course.save()\n",
    "\n",
    "people = []\n",
    "for person_dict in course_fm['team']:\n",
    "    person_id = person_dict['name']\n",
    "    person = Person.objects.get(id=person_id)\n",
    "    people.append(person)\n",
    "course.people.set(people)\n",
    "course.save()\n",
    "    \n",
    "\n"
   ]
  },
  {
   "cell_type": "code",
   "execution_count": null,
   "id": "f45f8d4d",
   "metadata": {},
   "outputs": [],
   "source": []
  },
  {
   "cell_type": "code",
   "execution_count": 16,
   "id": "4fc59534",
   "metadata": {},
   "outputs": [
    {
     "data": {
      "text/plain": [
       "'/home/larisa/projects/dtc_archive/datatalksclub.github.io/_data/events.yaml'"
      ]
     },
     "execution_count": 16,
     "metadata": {},
     "output_type": "execute_result"
    }
   ],
   "source": [
    "events_file = glob(path + '/_data/*.yaml')\n",
    "event_file = events_file[1]\n",
    "event_file"
   ]
  },
  {
   "cell_type": "code",
   "execution_count": 25,
   "id": "ff0e432c",
   "metadata": {},
   "outputs": [],
   "source": [
    "with open(event_file) as f_in:\n",
    "    event_ya = yaml.load(f_in, Loader=yaml.Loader)\n",
    "# event_ya"
   ]
  },
  {
   "cell_type": "code",
   "execution_count": 24,
   "id": "810d1646",
   "metadata": {},
   "outputs": [
    {
     "name": "stderr",
     "output_type": "stream",
     "text": [
      "/home/larisa/.local/share/virtualenvs/website-django-i0QUG990/lib/python3.8/site-packages/django/db/models/fields/__init__.py:1534: RuntimeWarning: DateTimeField Event.time received a naive datetime (2022-03-24 17:00:00) while time zone support is active.\n",
      "  warnings.warn(\n",
      "/home/larisa/.local/share/virtualenvs/website-django-i0QUG990/lib/python3.8/site-packages/django/db/models/fields/__init__.py:1534: RuntimeWarning: DateTimeField Event.time received a naive datetime (2022-03-18 17:00:00) while time zone support is active.\n",
      "  warnings.warn(\n",
      "/home/larisa/.local/share/virtualenvs/website-django-i0QUG990/lib/python3.8/site-packages/django/db/models/fields/__init__.py:1534: RuntimeWarning: DateTimeField Event.time received a naive datetime (2022-05-03 17:00:00) while time zone support is active.\n",
      "  warnings.warn(\n",
      "/home/larisa/.local/share/virtualenvs/website-django-i0QUG990/lib/python3.8/site-packages/django/db/models/fields/__init__.py:1534: RuntimeWarning: DateTimeField Event.time received a naive datetime (2022-04-19 17:00:00) while time zone support is active.\n",
      "  warnings.warn(\n",
      "/home/larisa/.local/share/virtualenvs/website-django-i0QUG990/lib/python3.8/site-packages/django/db/models/fields/__init__.py:1534: RuntimeWarning: DateTimeField Event.time received a naive datetime (2022-03-29 17:00:00) while time zone support is active.\n",
      "  warnings.warn(\n",
      "/home/larisa/.local/share/virtualenvs/website-django-i0QUG990/lib/python3.8/site-packages/django/db/models/fields/__init__.py:1534: RuntimeWarning: DateTimeField Event.time received a naive datetime (2022-03-22 17:00:00) while time zone support is active.\n",
      "  warnings.warn(\n",
      "/home/larisa/.local/share/virtualenvs/website-django-i0QUG990/lib/python3.8/site-packages/django/db/models/fields/__init__.py:1534: RuntimeWarning: DateTimeField Event.time received a naive datetime (2022-03-15 17:00:00) while time zone support is active.\n",
      "  warnings.warn(\n",
      "/home/larisa/.local/share/virtualenvs/website-django-i0QUG990/lib/python3.8/site-packages/django/db/models/fields/__init__.py:1534: RuntimeWarning: DateTimeField Event.time received a naive datetime (2022-03-11 17:00:00) while time zone support is active.\n",
      "  warnings.warn(\n",
      "/home/larisa/.local/share/virtualenvs/website-django-i0QUG990/lib/python3.8/site-packages/django/db/models/fields/__init__.py:1534: RuntimeWarning: DateTimeField Event.time received a naive datetime (2022-03-04 17:00:00) while time zone support is active.\n",
      "  warnings.warn(\n",
      "/home/larisa/.local/share/virtualenvs/website-django-i0QUG990/lib/python3.8/site-packages/django/db/models/fields/__init__.py:1534: RuntimeWarning: DateTimeField Event.time received a naive datetime (2022-03-03 17:00:00) while time zone support is active.\n",
      "  warnings.warn(\n",
      "/home/larisa/.local/share/virtualenvs/website-django-i0QUG990/lib/python3.8/site-packages/django/db/models/fields/__init__.py:1534: RuntimeWarning: DateTimeField Event.time received a naive datetime (2022-03-01 17:00:00) while time zone support is active.\n",
      "  warnings.warn(\n",
      "/home/larisa/.local/share/virtualenvs/website-django-i0QUG990/lib/python3.8/site-packages/django/db/models/fields/__init__.py:1534: RuntimeWarning: DateTimeField Event.time received a naive datetime (2022-02-28 17:00:00) while time zone support is active.\n",
      "  warnings.warn(\n",
      "/home/larisa/.local/share/virtualenvs/website-django-i0QUG990/lib/python3.8/site-packages/django/db/models/fields/__init__.py:1534: RuntimeWarning: DateTimeField Event.time received a naive datetime (2022-02-18 17:00:00) while time zone support is active.\n",
      "  warnings.warn(\n",
      "/home/larisa/.local/share/virtualenvs/website-django-i0QUG990/lib/python3.8/site-packages/django/db/models/fields/__init__.py:1534: RuntimeWarning: DateTimeField Event.time received a naive datetime (2022-02-16 17:00:00) while time zone support is active.\n",
      "  warnings.warn(\n",
      "/home/larisa/.local/share/virtualenvs/website-django-i0QUG990/lib/python3.8/site-packages/django/db/models/fields/__init__.py:1534: RuntimeWarning: DateTimeField Event.time received a naive datetime (2022-02-04 17:00:00) while time zone support is active.\n",
      "  warnings.warn(\n",
      "/home/larisa/.local/share/virtualenvs/website-django-i0QUG990/lib/python3.8/site-packages/django/db/models/fields/__init__.py:1534: RuntimeWarning: DateTimeField Event.time received a naive datetime (2022-02-11 17:00:00) while time zone support is active.\n",
      "  warnings.warn(\n",
      "/home/larisa/.local/share/virtualenvs/website-django-i0QUG990/lib/python3.8/site-packages/django/db/models/fields/__init__.py:1534: RuntimeWarning: DateTimeField Event.time received a naive datetime (2022-02-08 17:00:00) while time zone support is active.\n",
      "  warnings.warn(\n",
      "/home/larisa/.local/share/virtualenvs/website-django-i0QUG990/lib/python3.8/site-packages/django/db/models/fields/__init__.py:1534: RuntimeWarning: DateTimeField Event.time received a naive datetime (2022-01-28 17:00:00) while time zone support is active.\n",
      "  warnings.warn(\n",
      "/home/larisa/.local/share/virtualenvs/website-django-i0QUG990/lib/python3.8/site-packages/django/db/models/fields/__init__.py:1534: RuntimeWarning: DateTimeField Event.time received a naive datetime (2022-01-21 17:00:00) while time zone support is active.\n",
      "  warnings.warn(\n",
      "/home/larisa/.local/share/virtualenvs/website-django-i0QUG990/lib/python3.8/site-packages/django/db/models/fields/__init__.py:1534: RuntimeWarning: DateTimeField Event.time received a naive datetime (2022-01-19 17:00:00) while time zone support is active.\n",
      "  warnings.warn(\n",
      "/home/larisa/.local/share/virtualenvs/website-django-i0QUG990/lib/python3.8/site-packages/django/db/models/fields/__init__.py:1534: RuntimeWarning: DateTimeField Event.time received a naive datetime (2022-01-14 17:00:00) while time zone support is active.\n",
      "  warnings.warn(\n",
      "/home/larisa/.local/share/virtualenvs/website-django-i0QUG990/lib/python3.8/site-packages/django/db/models/fields/__init__.py:1534: RuntimeWarning: DateTimeField Event.time received a naive datetime (2022-01-12 17:00:00) while time zone support is active.\n",
      "  warnings.warn(\n",
      "/home/larisa/.local/share/virtualenvs/website-django-i0QUG990/lib/python3.8/site-packages/django/db/models/fields/__init__.py:1534: RuntimeWarning: DateTimeField Event.time received a naive datetime (2022-01-11 17:00:00) while time zone support is active.\n",
      "  warnings.warn(\n",
      "/home/larisa/.local/share/virtualenvs/website-django-i0QUG990/lib/python3.8/site-packages/django/db/models/fields/__init__.py:1534: RuntimeWarning: DateTimeField Event.time received a naive datetime (2021-12-17 17:00:00) while time zone support is active.\n",
      "  warnings.warn(\n",
      "/home/larisa/.local/share/virtualenvs/website-django-i0QUG990/lib/python3.8/site-packages/django/db/models/fields/__init__.py:1534: RuntimeWarning: DateTimeField Event.time received a naive datetime (2021-12-16 12:00:00) while time zone support is active.\n",
      "  warnings.warn(\n",
      "/home/larisa/.local/share/virtualenvs/website-django-i0QUG990/lib/python3.8/site-packages/django/db/models/fields/__init__.py:1534: RuntimeWarning: DateTimeField Event.time received a naive datetime (2021-12-14 17:00:00) while time zone support is active.\n",
      "  warnings.warn(\n",
      "/home/larisa/.local/share/virtualenvs/website-django-i0QUG990/lib/python3.8/site-packages/django/db/models/fields/__init__.py:1534: RuntimeWarning: DateTimeField Event.time received a naive datetime (2021-12-07 17:00:00) while time zone support is active.\n",
      "  warnings.warn(\n",
      "/home/larisa/.local/share/virtualenvs/website-django-i0QUG990/lib/python3.8/site-packages/django/db/models/fields/__init__.py:1534: RuntimeWarning: DateTimeField Event.time received a naive datetime (2021-12-03 17:00:00) while time zone support is active.\n",
      "  warnings.warn(\n",
      "/home/larisa/.local/share/virtualenvs/website-django-i0QUG990/lib/python3.8/site-packages/django/db/models/fields/__init__.py:1534: RuntimeWarning: DateTimeField Event.time received a naive datetime (2021-12-01 17:00:00) while time zone support is active.\n",
      "  warnings.warn(\n",
      "/home/larisa/.local/share/virtualenvs/website-django-i0QUG990/lib/python3.8/site-packages/django/db/models/fields/__init__.py:1534: RuntimeWarning: DateTimeField Event.time received a naive datetime (2021-11-26 17:00:00) while time zone support is active.\n",
      "  warnings.warn(\n",
      "/home/larisa/.local/share/virtualenvs/website-django-i0QUG990/lib/python3.8/site-packages/django/db/models/fields/__init__.py:1534: RuntimeWarning: DateTimeField Event.time received a naive datetime (2021-11-23 17:00:00) while time zone support is active.\n",
      "  warnings.warn(\n",
      "/home/larisa/.local/share/virtualenvs/website-django-i0QUG990/lib/python3.8/site-packages/django/db/models/fields/__init__.py:1534: RuntimeWarning: DateTimeField Event.time received a naive datetime (2021-11-19 17:00:00) while time zone support is active.\n",
      "  warnings.warn(\n",
      "/home/larisa/.local/share/virtualenvs/website-django-i0QUG990/lib/python3.8/site-packages/django/db/models/fields/__init__.py:1534: RuntimeWarning: DateTimeField Event.time received a naive datetime (2021-11-16 17:00:00) while time zone support is active.\n",
      "  warnings.warn(\n",
      "/home/larisa/.local/share/virtualenvs/website-django-i0QUG990/lib/python3.8/site-packages/django/db/models/fields/__init__.py:1534: RuntimeWarning: DateTimeField Event.time received a naive datetime (2021-11-12 17:00:00) while time zone support is active.\n",
      "  warnings.warn(\n",
      "/home/larisa/.local/share/virtualenvs/website-django-i0QUG990/lib/python3.8/site-packages/django/db/models/fields/__init__.py:1534: RuntimeWarning: DateTimeField Event.time received a naive datetime (2021-11-10 17:00:00) while time zone support is active.\n",
      "  warnings.warn(\n",
      "/home/larisa/.local/share/virtualenvs/website-django-i0QUG990/lib/python3.8/site-packages/django/db/models/fields/__init__.py:1534: RuntimeWarning: DateTimeField Event.time received a naive datetime (2021-11-09 17:00:00) while time zone support is active.\n",
      "  warnings.warn(\n",
      "/home/larisa/.local/share/virtualenvs/website-django-i0QUG990/lib/python3.8/site-packages/django/db/models/fields/__init__.py:1534: RuntimeWarning: DateTimeField Event.time received a naive datetime (2021-11-05 17:00:00) while time zone support is active.\n",
      "  warnings.warn(\n",
      "/home/larisa/.local/share/virtualenvs/website-django-i0QUG990/lib/python3.8/site-packages/django/db/models/fields/__init__.py:1534: RuntimeWarning: DateTimeField Event.time received a naive datetime (2021-11-02 17:00:00) while time zone support is active.\n",
      "  warnings.warn(\n",
      "/home/larisa/.local/share/virtualenvs/website-django-i0QUG990/lib/python3.8/site-packages/django/db/models/fields/__init__.py:1534: RuntimeWarning: DateTimeField Event.time received a naive datetime (2021-10-28 17:00:00) while time zone support is active.\n",
      "  warnings.warn(\n",
      "/home/larisa/.local/share/virtualenvs/website-django-i0QUG990/lib/python3.8/site-packages/django/db/models/fields/__init__.py:1534: RuntimeWarning: DateTimeField Event.time received a naive datetime (2021-10-26 17:00:00) while time zone support is active.\n",
      "  warnings.warn(\n",
      "/home/larisa/.local/share/virtualenvs/website-django-i0QUG990/lib/python3.8/site-packages/django/db/models/fields/__init__.py:1534: RuntimeWarning: DateTimeField Event.time received a naive datetime (2021-10-22 17:00:00) while time zone support is active.\n",
      "  warnings.warn(\n",
      "/home/larisa/.local/share/virtualenvs/website-django-i0QUG990/lib/python3.8/site-packages/django/db/models/fields/__init__.py:1534: RuntimeWarning: DateTimeField Event.time received a naive datetime (2021-10-15 17:00:00) while time zone support is active.\n",
      "  warnings.warn(\n",
      "/home/larisa/.local/share/virtualenvs/website-django-i0QUG990/lib/python3.8/site-packages/django/db/models/fields/__init__.py:1534: RuntimeWarning: DateTimeField Event.time received a naive datetime (2021-10-12 17:00:00) while time zone support is active.\n",
      "  warnings.warn(\n",
      "/home/larisa/.local/share/virtualenvs/website-django-i0QUG990/lib/python3.8/site-packages/django/db/models/fields/__init__.py:1534: RuntimeWarning: DateTimeField Event.time received a naive datetime (2021-10-08 17:00:00) while time zone support is active.\n",
      "  warnings.warn(\n",
      "/home/larisa/.local/share/virtualenvs/website-django-i0QUG990/lib/python3.8/site-packages/django/db/models/fields/__init__.py:1534: RuntimeWarning: DateTimeField Event.time received a naive datetime (2021-10-06 17:00:00) while time zone support is active.\n",
      "  warnings.warn(\n"
     ]
    },
    {
     "name": "stderr",
     "output_type": "stream",
     "text": [
      "/home/larisa/.local/share/virtualenvs/website-django-i0QUG990/lib/python3.8/site-packages/django/db/models/fields/__init__.py:1534: RuntimeWarning: DateTimeField Event.time received a naive datetime (2021-10-05 17:00:00) while time zone support is active.\n",
      "  warnings.warn(\n",
      "/home/larisa/.local/share/virtualenvs/website-django-i0QUG990/lib/python3.8/site-packages/django/db/models/fields/__init__.py:1534: RuntimeWarning: DateTimeField Event.time received a naive datetime (2021-10-01 17:00:00) while time zone support is active.\n",
      "  warnings.warn(\n",
      "/home/larisa/.local/share/virtualenvs/website-django-i0QUG990/lib/python3.8/site-packages/django/db/models/fields/__init__.py:1534: RuntimeWarning: DateTimeField Event.time received a naive datetime (2021-09-28 17:00:00) while time zone support is active.\n",
      "  warnings.warn(\n",
      "/home/larisa/.local/share/virtualenvs/website-django-i0QUG990/lib/python3.8/site-packages/django/db/models/fields/__init__.py:1534: RuntimeWarning: DateTimeField Event.time received a naive datetime (2021-09-24 17:00:00) while time zone support is active.\n",
      "  warnings.warn(\n",
      "/home/larisa/.local/share/virtualenvs/website-django-i0QUG990/lib/python3.8/site-packages/django/db/models/fields/__init__.py:1534: RuntimeWarning: DateTimeField Event.time received a naive datetime (2021-09-21 17:00:00) while time zone support is active.\n",
      "  warnings.warn(\n",
      "/home/larisa/.local/share/virtualenvs/website-django-i0QUG990/lib/python3.8/site-packages/django/db/models/fields/__init__.py:1534: RuntimeWarning: DateTimeField Event.time received a naive datetime (2021-09-14 17:00:00) while time zone support is active.\n",
      "  warnings.warn(\n",
      "/home/larisa/.local/share/virtualenvs/website-django-i0QUG990/lib/python3.8/site-packages/django/db/models/fields/__init__.py:1534: RuntimeWarning: DateTimeField Event.time received a naive datetime (2021-09-10 17:00:00) while time zone support is active.\n",
      "  warnings.warn(\n",
      "/home/larisa/.local/share/virtualenvs/website-django-i0QUG990/lib/python3.8/site-packages/django/db/models/fields/__init__.py:1534: RuntimeWarning: DateTimeField Event.time received a naive datetime (2021-09-07 17:00:00) while time zone support is active.\n",
      "  warnings.warn(\n",
      "/home/larisa/.local/share/virtualenvs/website-django-i0QUG990/lib/python3.8/site-packages/django/db/models/fields/__init__.py:1534: RuntimeWarning: DateTimeField Event.time received a naive datetime (2021-09-03 17:00:00) while time zone support is active.\n",
      "  warnings.warn(\n",
      "/home/larisa/.local/share/virtualenvs/website-django-i0QUG990/lib/python3.8/site-packages/django/db/models/fields/__init__.py:1534: RuntimeWarning: DateTimeField Event.time received a naive datetime (2021-08-31 17:00:00) while time zone support is active.\n",
      "  warnings.warn(\n",
      "/home/larisa/.local/share/virtualenvs/website-django-i0QUG990/lib/python3.8/site-packages/django/db/models/fields/__init__.py:1534: RuntimeWarning: DateTimeField Event.time received a naive datetime (2021-08-27 17:00:00) while time zone support is active.\n",
      "  warnings.warn(\n",
      "/home/larisa/.local/share/virtualenvs/website-django-i0QUG990/lib/python3.8/site-packages/django/db/models/fields/__init__.py:1534: RuntimeWarning: DateTimeField Event.time received a naive datetime (2021-08-25 17:00:00) while time zone support is active.\n",
      "  warnings.warn(\n",
      "/home/larisa/.local/share/virtualenvs/website-django-i0QUG990/lib/python3.8/site-packages/django/db/models/fields/__init__.py:1534: RuntimeWarning: DateTimeField Event.time received a naive datetime (2021-08-20 17:00:00) while time zone support is active.\n",
      "  warnings.warn(\n",
      "/home/larisa/.local/share/virtualenvs/website-django-i0QUG990/lib/python3.8/site-packages/django/db/models/fields/__init__.py:1534: RuntimeWarning: DateTimeField Event.time received a naive datetime (2021-08-17 17:00:00) while time zone support is active.\n",
      "  warnings.warn(\n",
      "/home/larisa/.local/share/virtualenvs/website-django-i0QUG990/lib/python3.8/site-packages/django/db/models/fields/__init__.py:1534: RuntimeWarning: DateTimeField Event.time received a naive datetime (2021-08-16 17:00:00) while time zone support is active.\n",
      "  warnings.warn(\n",
      "/home/larisa/.local/share/virtualenvs/website-django-i0QUG990/lib/python3.8/site-packages/django/db/models/fields/__init__.py:1534: RuntimeWarning: DateTimeField Event.time received a naive datetime (2021-08-13 17:00:00) while time zone support is active.\n",
      "  warnings.warn(\n",
      "/home/larisa/.local/share/virtualenvs/website-django-i0QUG990/lib/python3.8/site-packages/django/db/models/fields/__init__.py:1534: RuntimeWarning: DateTimeField Event.time received a naive datetime (2021-08-10 17:00:00) while time zone support is active.\n",
      "  warnings.warn(\n",
      "/home/larisa/.local/share/virtualenvs/website-django-i0QUG990/lib/python3.8/site-packages/django/db/models/fields/__init__.py:1534: RuntimeWarning: DateTimeField Event.time received a naive datetime (2021-08-06 17:00:00) while time zone support is active.\n",
      "  warnings.warn(\n",
      "/home/larisa/.local/share/virtualenvs/website-django-i0QUG990/lib/python3.8/site-packages/django/db/models/fields/__init__.py:1534: RuntimeWarning: DateTimeField Event.time received a naive datetime (2021-08-03 17:00:00) while time zone support is active.\n",
      "  warnings.warn(\n",
      "/home/larisa/.local/share/virtualenvs/website-django-i0QUG990/lib/python3.8/site-packages/django/db/models/fields/__init__.py:1534: RuntimeWarning: DateTimeField Event.time received a naive datetime (2021-06-29 17:00:00) while time zone support is active.\n",
      "  warnings.warn(\n",
      "/home/larisa/.local/share/virtualenvs/website-django-i0QUG990/lib/python3.8/site-packages/django/db/models/fields/__init__.py:1534: RuntimeWarning: DateTimeField Event.time received a naive datetime (2021-06-25 17:00:00) while time zone support is active.\n",
      "  warnings.warn(\n",
      "/home/larisa/.local/share/virtualenvs/website-django-i0QUG990/lib/python3.8/site-packages/django/db/models/fields/__init__.py:1534: RuntimeWarning: DateTimeField Event.time received a naive datetime (2021-06-24 17:00:00) while time zone support is active.\n",
      "  warnings.warn(\n",
      "/home/larisa/.local/share/virtualenvs/website-django-i0QUG990/lib/python3.8/site-packages/django/db/models/fields/__init__.py:1534: RuntimeWarning: DateTimeField Event.time received a naive datetime (2021-06-23 17:00:00) while time zone support is active.\n",
      "  warnings.warn(\n",
      "/home/larisa/.local/share/virtualenvs/website-django-i0QUG990/lib/python3.8/site-packages/django/db/models/fields/__init__.py:1534: RuntimeWarning: DateTimeField Event.time received a naive datetime (2021-06-22 17:00:00) while time zone support is active.\n",
      "  warnings.warn(\n",
      "/home/larisa/.local/share/virtualenvs/website-django-i0QUG990/lib/python3.8/site-packages/django/db/models/fields/__init__.py:1534: RuntimeWarning: DateTimeField Event.time received a naive datetime (2021-06-21 17:00:00) while time zone support is active.\n",
      "  warnings.warn(\n",
      "/home/larisa/.local/share/virtualenvs/website-django-i0QUG990/lib/python3.8/site-packages/django/db/models/fields/__init__.py:1534: RuntimeWarning: DateTimeField Event.time received a naive datetime (2021-06-21 16:55:00) while time zone support is active.\n",
      "  warnings.warn(\n"
     ]
    },
    {
     "ename": "KeyError",
     "evalue": "'link'",
     "output_type": "error",
     "traceback": [
      "\u001b[0;31m---------------------------------------------------------------------------\u001b[0m",
      "\u001b[0;31mKeyError\u001b[0m                                  Traceback (most recent call last)",
      "Input \u001b[0;32mIn [24]\u001b[0m, in \u001b[0;36m<cell line: 2>\u001b[0;34m()\u001b[0m\n\u001b[1;32m      6\u001b[0m event\u001b[38;5;241m.\u001b[39mtitle \u001b[38;5;241m=\u001b[39m event_ex[\u001b[38;5;124m'\u001b[39m\u001b[38;5;124mtitle\u001b[39m\u001b[38;5;124m'\u001b[39m]\n\u001b[1;32m      7\u001b[0m event\u001b[38;5;241m.\u001b[39mtype \u001b[38;5;241m=\u001b[39m event_ex[\u001b[38;5;124m'\u001b[39m\u001b[38;5;124mtype\u001b[39m\u001b[38;5;124m'\u001b[39m]\n\u001b[0;32m----> 8\u001b[0m event\u001b[38;5;241m.\u001b[39mevent_link \u001b[38;5;241m=\u001b[39m \u001b[43mevent_ex\u001b[49m\u001b[43m[\u001b[49m\u001b[38;5;124;43m'\u001b[39;49m\u001b[38;5;124;43mlink\u001b[39;49m\u001b[38;5;124;43m'\u001b[39;49m\u001b[43m]\u001b[49m\n\u001b[1;32m      9\u001b[0m \u001b[38;5;28;01mif\u001b[39;00m \u001b[38;5;124m'\u001b[39m\u001b[38;5;124myoutube\u001b[39m\u001b[38;5;124m'\u001b[39m \u001b[38;5;129;01min\u001b[39;00m event_ex:\n\u001b[1;32m     10\u001b[0m     event\u001b[38;5;241m.\u001b[39myoutube_link \u001b[38;5;241m=\u001b[39m event_ex[\u001b[38;5;124m'\u001b[39m\u001b[38;5;124myoutube\u001b[39m\u001b[38;5;124m'\u001b[39m]\n",
      "\u001b[0;31mKeyError\u001b[0m: 'link'"
     ]
    }
   ],
   "source": [
    "# event_ex = event_ya[0]\n",
    "for event_ex in event_ya:\n",
    "# event_ex\n",
    "    event = Event()\n",
    "    event.time = event_ex['time']\n",
    "    event.title = event_ex['title']\n",
    "    event.type = event_ex['type']\n",
    "    event.event_link = event_ex['link']\n",
    "    if 'youtube' in event_ex:\n",
    "        event.youtube_link = event_ex['youtube']\n",
    "    event.save()\n",
    "\n",
    "    speakers = []\n",
    "\n",
    "    for speaker_id in event_ex['speakers']:\n",
    "        speaker = Person.objects.get(id=speaker_id)\n",
    "        speakers.append(speaker)\n",
    "    event.speakers.set(speakers)\n",
    "    event.save()"
   ]
  },
  {
   "cell_type": "code",
   "execution_count": null,
   "id": "2e48036a",
   "metadata": {},
   "outputs": [],
   "source": []
  },
  {
   "cell_type": "code",
   "execution_count": null,
   "id": "8a7007c7",
   "metadata": {},
   "outputs": [],
   "source": []
  },
  {
   "cell_type": "code",
   "execution_count": null,
   "id": "e2634738",
   "metadata": {},
   "outputs": [],
   "source": []
  },
  {
   "cell_type": "code",
   "execution_count": null,
   "id": "37a59ff6",
   "metadata": {},
   "outputs": [],
   "source": []
  }
 ],
 "metadata": {
  "kernelspec": {
   "display_name": "dtc-django",
   "language": "python",
   "name": "dtc-django"
  },
  "language_info": {
   "codemirror_mode": {
    "name": "ipython",
    "version": 3
   },
   "file_extension": ".py",
   "mimetype": "text/x-python",
   "name": "python",
   "nbconvert_exporter": "python",
   "pygments_lexer": "ipython3",
   "version": "3.8.10"
  }
 },
 "nbformat": 4,
 "nbformat_minor": 5
}
