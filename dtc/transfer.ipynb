{
 "cells": [
  {
   "cell_type": "code",
   "execution_count": 1,
   "id": "33490371",
   "metadata": {},
   "outputs": [],
   "source": [
    "import frontmatter\n",
    "from glob import glob\n",
    "import datetime"
   ]
  },
  {
   "cell_type": "code",
   "execution_count": 2,
   "id": "e5784bb1",
   "metadata": {},
   "outputs": [],
   "source": [
    "import os\n",
    "\n",
    "os.environ.setdefault(\"DJANGO_SETTINGS_MODULE\", \"dtc.settings\")\n",
    "os.environ[\"DJANGO_ALLOW_ASYNC_UNSAFE\"] = \"true\"\n",
    "\n",
    "import django\n",
    "django.setup()"
   ]
  },
  {
   "cell_type": "code",
   "execution_count": 3,
   "id": "2876dc3e",
   "metadata": {},
   "outputs": [],
   "source": [
    "from root.models import *"
   ]
  },
  {
   "cell_type": "code",
   "execution_count": 4,
   "id": "113f34c8",
   "metadata": {},
   "outputs": [],
   "source": [
    "path = '/home/larisa/projects/dtc_archive/datatalksclub.github.io'\n",
    "people_files = glob(path + '/_people/*.md')"
   ]
  },
  {
   "cell_type": "code",
   "execution_count": 5,
   "id": "f14b3c3b",
   "metadata": {},
   "outputs": [
    {
     "name": "stdout",
     "output_type": "stream",
     "text": [
      "/home/larisa/projects/dtc_archive/datatalksclub.github.io/_people/janschlicht.md\n",
      "/home/larisa/projects/dtc_archive/datatalksclub.github.io/_people/ellenkonig.md\n",
      "/home/larisa/projects/dtc_archive/datatalksclub.github.io/_people/meysamasgarichenaghlu.md\n",
      "/home/larisa/projects/dtc_archive/datatalksclub.github.io/_people/16rahuljain.md\n",
      "/home/larisa/projects/dtc_archive/datatalksclub.github.io/_people/elenitziritazacharatou.md\n",
      "/home/larisa/projects/dtc_archive/datatalksclub.github.io/_people/agnieszkamikolajczyk.md\n",
      "/home/larisa/projects/dtc_archive/datatalksclub.github.io/_people/aparnadhinakaran.md\n",
      "/home/larisa/projects/dtc_archive/datatalksclub.github.io/_people/swyx.md\n",
      "/home/larisa/projects/dtc_archive/datatalksclub.github.io/_people/arpitchoudhury.md\n",
      "/home/larisa/projects/dtc_archive/datatalksclub.github.io/_people/rustemfeyzkhanov.md\n",
      "/home/larisa/projects/dtc_archive/datatalksclub.github.io/_people/jensalbrecht.md\n",
      "/home/larisa/projects/dtc_archive/datatalksclub.github.io/_people/denisegosnell.md\n",
      "/home/larisa/projects/dtc_archive/datatalksclub.github.io/_people/sararobinson.md\n",
      "/home/larisa/projects/dtc_archive/datatalksclub.github.io/_people/orlandohohmeier.md\n",
      "/home/larisa/projects/dtc_archive/datatalksclub.github.io/_people/olegnovikov.md\n",
      "/home/larisa/projects/dtc_archive/datatalksclub.github.io/_people/nastasiasaby.md\n",
      "/home/larisa/projects/dtc_archive/datatalksclub.github.io/_people/tomaszlelek.md\n",
      "/home/larisa/projects/dtc_archive/datatalksclub.github.io/_people/saramenefee.md\n",
      "/home/larisa/projects/dtc_archive/datatalksclub.github.io/_people/vinvashishta.md\n",
      "/home/larisa/projects/dtc_archive/datatalksclub.github.io/_people/alicjanotowska.md\n",
      "/home/larisa/projects/dtc_archive/datatalksclub.github.io/_people/nourkaressli.md\n",
      "/home/larisa/projects/dtc_archive/datatalksclub.github.io/_people/miguelmorales.md\n",
      "/home/larisa/projects/dtc_archive/datatalksclub.github.io/_people/sidharthramachandran.md\n",
      "/home/larisa/projects/dtc_archive/datatalksclub.github.io/_people/paulorland.md\n",
      "/home/larisa/projects/dtc_archive/datatalksclub.github.io/_people/sivanbiham.md\n",
      "/home/larisa/projects/dtc_archive/datatalksclub.github.io/_people/carminepaolino.md\n",
      "/home/larisa/projects/dtc_archive/datatalksclub.github.io/_people/alexioannides.md\n",
      "/home/larisa/projects/dtc_archive/datatalksclub.github.io/_people/ankurapatel.md\n",
      "/home/larisa/projects/dtc_archive/datatalksclub.github.io/_people/ivanbilan.md\n",
      "/home/larisa/projects/dtc_archive/datatalksclub.github.io/_people/adamsroka.md\n",
      "/home/larisa/projects/dtc_archive/datatalksclub.github.io/_people/demetriosbrinkmann.md\n",
      "/home/larisa/projects/dtc_archive/datatalksclub.github.io/_people/danbecker.md\n",
      "/home/larisa/projects/dtc_archive/datatalksclub.github.io/_people/christophmolnar.md\n",
      "/home/larisa/projects/dtc_archive/datatalksclub.github.io/_people/hanneshapke.md\n",
      "/home/larisa/projects/dtc_archive/datatalksclub.github.io/_people/michaelmunn.md\n",
      "/home/larisa/projects/dtc_archive/datatalksclub.github.io/_people/rachaeltatman.md\n",
      "/home/larisa/projects/dtc_archive/datatalksclub.github.io/_people/artemiifrolov.md\n",
      "/home/larisa/projects/dtc_archive/datatalksclub.github.io/_people/roksolanadiachuk.md\n",
      "/home/larisa/projects/dtc_archive/datatalksclub.github.io/_people/lukewhipps.md\n",
      "/home/larisa/projects/dtc_archive/datatalksclub.github.io/_people/noahgift.md\n",
      "/home/larisa/projects/dtc_archive/datatalksclub.github.io/_people/davidmertz.md\n",
      "/home/larisa/projects/dtc_archive/datatalksclub.github.io/_people/barbarasobkowiak.md\n",
      "/home/larisa/projects/dtc_archive/datatalksclub.github.io/_people/alexchung.md\n",
      "/home/larisa/projects/dtc_archive/datatalksclub.github.io/_people/savasyildirim.md\n",
      "/home/larisa/projects/dtc_archive/datatalksclub.github.io/_people/soledadgalli.md\n",
      "/home/larisa/projects/dtc_archive/datatalksclub.github.io/_people/markryan.md\n",
      "/home/larisa/projects/dtc_archive/datatalksclub.github.io/_people/mikiobraun.md\n",
      "/home/larisa/projects/dtc_archive/datatalksclub.github.io/_people/joshtobin.md\n",
      "/home/larisa/projects/dtc_archive/datatalksclub.github.io/_people/barrmoses.md\n",
      "/home/larisa/projects/dtc_archive/datatalksclub.github.io/_people/emilbogomolov.md\n",
      "/home/larisa/projects/dtc_archive/datatalksclub.github.io/_people/rahuljain.md\n",
      "/home/larisa/projects/dtc_archive/datatalksclub.github.io/_people/larysavisengeriyeva.md\n",
      "/home/larisa/projects/dtc_archive/datatalksclub.github.io/_people/emmanuelraj.md\n",
      "/home/larisa/projects/dtc_archive/datatalksclub.github.io/_people/victoriaperezmola.md\n",
      "/home/larisa/projects/dtc_archive/datatalksclub.github.io/_people/nataliekwong.md\n",
      "/home/larisa/projects/dtc_archive/datatalksclub.github.io/_people/maxschultze.md\n",
      "/home/larisa/projects/dtc_archive/datatalksclub.github.io/_people/jonskeet.md\n",
      "/home/larisa/projects/dtc_archive/datatalksclub.github.io/_people/raghavbali.md\n",
      "/home/larisa/projects/dtc_archive/datatalksclub.github.io/_people/kenyouens-clark.md\n",
      "/home/larisa/projects/dtc_archive/datatalksclub.github.io/_people/giuseppebonaccorso.md\n",
      "/home/larisa/projects/dtc_archive/datatalksclub.github.io/_people/jessiashdown.md\n",
      "/home/larisa/projects/dtc_archive/datatalksclub.github.io/_people/tatyjanaankudo.md\n",
      "/home/larisa/projects/dtc_archive/datatalksclub.github.io/_people/igorsusmelj.md\n",
      "/home/larisa/projects/dtc_archive/datatalksclub.github.io/_people/dannyma.md\n",
      "/home/larisa/projects/dtc_archive/datatalksclub.github.io/_people/iliaivanov.md\n",
      "/home/larisa/projects/dtc_archive/datatalksclub.github.io/_people/christianwinkler.md\n",
      "/home/larisa/projects/dtc_archive/datatalksclub.github.io/_people/sedatkapanoglu.md\n",
      "/home/larisa/projects/dtc_archive/datatalksclub.github.io/_people/svpino.md\n",
      "/home/larisa/projects/dtc_archive/datatalksclub.github.io/_people/davidstephenson.md\n",
      "/home/larisa/projects/dtc_archive/datatalksclub.github.io/_people/sauravmaheshkar.md\n",
      "/home/larisa/projects/dtc_archive/datatalksclub.github.io/_people/juanpablo.md\n",
      "/home/larisa/projects/dtc_archive/datatalksclub.github.io/_people/davidgates.md\n",
      "/home/larisa/projects/dtc_archive/datatalksclub.github.io/_people/vincenttatan.md\n",
      "/home/larisa/projects/dtc_archive/datatalksclub.github.io/_people/geojolly.md\n",
      "/home/larisa/projects/dtc_archive/datatalksclub.github.io/_people/sergmasis.md\n",
      "/home/larisa/projects/dtc_archive/datatalksclub.github.io/_people/eliasnema.md\n",
      "/home/larisa/projects/dtc_archive/datatalksclub.github.io/_people/caitlinmoorman.md\n",
      "/home/larisa/projects/dtc_archive/datatalksclub.github.io/_people/valeriybabushkin.md\n",
      "/home/larisa/projects/dtc_archive/datatalksclub.github.io/_people/admondleekinlim.md\n",
      "/home/larisa/projects/dtc_archive/datatalksclub.github.io/_people/manojkukreja.md\n",
      "/home/larisa/projects/dtc_archive/datatalksclub.github.io/_people/kimfalk.md\n",
      "/home/larisa/projects/dtc_archive/datatalksclub.github.io/_people/donjones.md\n",
      "/home/larisa/projects/dtc_archive/datatalksclub.github.io/_people/yurykashnitsky.md\n",
      "/home/larisa/projects/dtc_archive/datatalksclub.github.io/_people/sejalvaidya.md\n",
      "/home/larisa/projects/dtc_archive/datatalksclub.github.io/_people/padmachitturi.md\n",
      "/home/larisa/projects/dtc_archive/datatalksclub.github.io/_people/vincentwarmerdam.md\n",
      "/home/larisa/projects/dtc_archive/datatalksclub.github.io/_people/olegpolivin.md\n",
      "/home/larisa/projects/dtc_archive/datatalksclub.github.io/_people/villetuulos.md\n",
      "/home/larisa/projects/dtc_archive/datatalksclub.github.io/_people/guyadams.md\n",
      "/home/larisa/projects/dtc_archive/datatalksclub.github.io/_people/elleobrien.md\n",
      "/home/larisa/projects/dtc_archive/datatalksclub.github.io/_people/naominguyen.md\n",
      "/home/larisa/projects/dtc_archive/datatalksclub.github.io/_people/dougturnbull.md\n",
      "/home/larisa/projects/dtc_archive/datatalksclub.github.io/_people/pierpaoloippolito.md\n",
      "/home/larisa/projects/dtc_archive/datatalksclub.github.io/_people/liesbethdingemans.md\n",
      "/home/larisa/projects/dtc_archive/datatalksclub.github.io/_people/stefanjansen.md\n",
      "/home/larisa/projects/dtc_archive/datatalksclub.github.io/_people/mereltheisen.md\n",
      "/home/larisa/projects/dtc_archive/datatalksclub.github.io/_people/ericsims.md\n",
      "/home/larisa/projects/dtc_archive/datatalksclub.github.io/_people/meoramer.md\n",
      "/home/larisa/projects/dtc_archive/datatalksclub.github.io/_people/theofilospapapanagiotou.md\n",
      "/home/larisa/projects/dtc_archive/datatalksclub.github.io/_people/magdalenakonkiewicz.md\n",
      "/home/larisa/projects/dtc_archive/datatalksclub.github.io/_people/aaronwishnick.md\n",
      "/home/larisa/projects/dtc_archive/datatalksclub.github.io/_people/dannyleybzon.md\n",
      "/home/larisa/projects/dtc_archive/datatalksclub.github.io/_people/fabianaclemente.md\n",
      "/home/larisa/projects/dtc_archive/datatalksclub.github.io/_people/alexeygrigorev.md\n",
      "/home/larisa/projects/dtc_archive/datatalksclub.github.io/_people/linaweichbrodt.md\n",
      "/home/larisa/projects/dtc_archive/datatalksclub.github.io/_people/jeanineharb.md\n",
      "/home/larisa/projects/dtc_archive/datatalksclub.github.io/_people/agnesvanbelle.md\n",
      "/home/larisa/projects/dtc_archive/datatalksclub.github.io/_people/dmitrymuzalevskiy.md\n",
      "/home/larisa/projects/dtc_archive/datatalksclub.github.io/_people/martinkleppmann.md\n",
      "/home/larisa/projects/dtc_archive/datatalksclub.github.io/_people/kevinhuo.md\n",
      "/home/larisa/projects/dtc_archive/datatalksclub.github.io/_people/cjjenkins.md\n",
      "/home/larisa/projects/dtc_archive/datatalksclub.github.io/_people/willempienaar.md\n",
      "/home/larisa/projects/dtc_archive/datatalksclub.github.io/_people/laurencemoroney.md\n",
      "/home/larisa/projects/dtc_archive/datatalksclub.github.io/_people/andradaolteanu.md\n",
      "/home/larisa/projects/dtc_archive/datatalksclub.github.io/_people/susanwalsh.md\n",
      "/home/larisa/projects/dtc_archive/datatalksclub.github.io/_people/jonathanrioux.md\n",
      "/home/larisa/projects/dtc_archive/datatalksclub.github.io/_people/marijnmarkus.md\n",
      "/home/larisa/projects/dtc_archive/datatalksclub.github.io/_people/_template.md\n",
      "/home/larisa/projects/dtc_archive/datatalksclub.github.io/_people/andypetrella.md\n",
      "/home/larisa/projects/dtc_archive/datatalksclub.github.io/_people/filipacastro.md\n",
      "/home/larisa/projects/dtc_archive/datatalksclub.github.io/_people/eugeneyan.md\n",
      "/home/larisa/projects/dtc_archive/datatalksclub.github.io/_people/emelidral.md\n",
      "/home/larisa/projects/dtc_archive/datatalksclub.github.io/_people/illiatodor.md\n",
      "/home/larisa/projects/dtc_archive/datatalksclub.github.io/_people/tatianagabruseva.md\n",
      "/home/larisa/projects/dtc_archive/datatalksclub.github.io/_people/nickbilozerov.md\n",
      "/home/larisa/projects/dtc_archive/datatalksclub.github.io/_people/lindsaymcquade.md\n",
      "/home/larisa/projects/dtc_archive/datatalksclub.github.io/_people/mattharrison.md\n",
      "/home/larisa/projects/dtc_archive/datatalksclub.github.io/_people/jesseanderson.md\n",
      "/home/larisa/projects/dtc_archive/datatalksclub.github.io/_people/andreschumacher.md\n",
      "/home/larisa/projects/dtc_archive/datatalksclub.github.io/_people/neallathia.md\n",
      "/home/larisa/projects/dtc_archive/datatalksclub.github.io/_people/andreaskretz.md\n",
      "/home/larisa/projects/dtc_archive/datatalksclub.github.io/_people/dalianaliu.md\n",
      "/home/larisa/projects/dtc_archive/datatalksclub.github.io/_people/gantlaborde.md\n",
      "/home/larisa/projects/dtc_archive/datatalksclub.github.io/_people/larsalbertsson.md\n",
      "/home/larisa/projects/dtc_archive/datatalksclub.github.io/_people/royjafari.md\n",
      "/home/larisa/projects/dtc_archive/datatalksclub.github.io/_people/rishabhbhargava.md\n",
      "/home/larisa/projects/dtc_archive/datatalksclub.github.io/_people/janzawadzki.md\n",
      "/home/larisa/projects/dtc_archive/datatalksclub.github.io/_people/lalitpagaria.md\n",
      "/home/larisa/projects/dtc_archive/datatalksclub.github.io/_people/srivathsancanchi.md\n",
      "/home/larisa/projects/dtc_archive/datatalksclub.github.io/_people/mahmoudaziz.md\n",
      "/home/larisa/projects/dtc_archive/datatalksclub.github.io/_people/himanshuupreti.md\n",
      "/home/larisa/projects/dtc_archive/datatalksclub.github.io/_people/philwinder.md\n",
      "/home/larisa/projects/dtc_archive/datatalksclub.github.io/_people/anthonyvirtuoso.md\n",
      "/home/larisa/projects/dtc_archive/datatalksclub.github.io/_people/marcellolarocca.md\n",
      "/home/larisa/projects/dtc_archive/datatalksclub.github.io/_people/jakobgraff.md\n",
      "/home/larisa/projects/dtc_archive/datatalksclub.github.io/_people/itaiadmi.md\n",
      "/home/larisa/projects/dtc_archive/datatalksclub.github.io/_people/alexpetrov.md\n",
      "/home/larisa/projects/dtc_archive/datatalksclub.github.io/_people/antjebarth.md\n",
      "/home/larisa/projects/dtc_archive/datatalksclub.github.io/_people/andrewmcmahon.md\n",
      "/home/larisa/projects/dtc_archive/datatalksclub.github.io/_people/davebechberger.md\n",
      "/home/larisa/projects/dtc_archive/datatalksclub.github.io/_people/marianosemelman.md\n",
      "/home/larisa/projects/dtc_archive/datatalksclub.github.io/_people/kyleshannon.md\n",
      "/home/larisa/projects/dtc_archive/datatalksclub.github.io/_people/kateogochukwunwankwo.md\n",
      "/home/larisa/projects/dtc_archive/datatalksclub.github.io/_people/jacquespeeters.md\n",
      "/home/larisa/projects/dtc_archive/datatalksclub.github.io/_people/bentaylor.md\n",
      "/home/larisa/projects/dtc_archive/datatalksclub.github.io/_people/romangrebennikov.md\n",
      "/home/larisa/projects/dtc_archive/datatalksclub.github.io/_people/thomives.md\n",
      "/home/larisa/projects/dtc_archive/datatalksclub.github.io/_people/benwilson.md\n",
      "/home/larisa/projects/dtc_archive/datatalksclub.github.io/_people/alexiaaudevart.md\n",
      "/home/larisa/projects/dtc_archive/datatalksclub.github.io/_people/grainnemcknight.md\n",
      "/home/larisa/projects/dtc_archive/datatalksclub.github.io/_people/denisrothman.md\n",
      "/home/larisa/projects/dtc_archive/datatalksclub.github.io/_people/chrisfregly.md\n",
      "/home/larisa/projects/dtc_archive/datatalksclub.github.io/_people/elenasamuylova.md\n",
      "/home/larisa/projects/dtc_archive/datatalksclub.github.io/_people/gregcoquillo.md\n",
      "/home/larisa/projects/dtc_archive/datatalksclub.github.io/_people/mariannadiachuk.md\n",
      "/home/larisa/projects/dtc_archive/datatalksclub.github.io/_people/jessieyaros.md\n",
      "/home/larisa/projects/dtc_archive/datatalksclub.github.io/_people/luisserrano.md\n",
      "/home/larisa/projects/dtc_archive/datatalksclub.github.io/_people/yuliapavlova.md\n",
      "/home/larisa/projects/dtc_archive/datatalksclub.github.io/_people/nishantmohan.md\n",
      "/home/larisa/projects/dtc_archive/datatalksclub.github.io/_people/nicksingh.md\n",
      "/home/larisa/projects/dtc_archive/datatalksclub.github.io/_people/emmanuelameisen.md\n",
      "/home/larisa/projects/dtc_archive/datatalksclub.github.io/_people/ksenialegostay.md\n",
      "/home/larisa/projects/dtc_archive/datatalksclub.github.io/_people/arsenykravchenko.md\n",
      "/home/larisa/projects/dtc_archive/datatalksclub.github.io/_people/mervenoyan.md\n",
      "/home/larisa/projects/dtc_archive/datatalksclub.github.io/_people/tammyliang.md\n",
      "/home/larisa/projects/dtc_archive/datatalksclub.github.io/_people/nielsenaileen.md\n",
      "/home/larisa/projects/dtc_archive/datatalksclub.github.io/_people/mihaileric.md\n",
      "/home/larisa/projects/dtc_archive/datatalksclub.github.io/_people/dattran.md\n",
      "/home/larisa/projects/dtc_archive/datatalksclub.github.io/_people/wendymak.md\n",
      "/home/larisa/projects/dtc_archive/datatalksclub.github.io/_people/cristianmartinez.md\n",
      "/home/larisa/projects/dtc_archive/datatalksclub.github.io/_people/liorbarak.md\n",
      "/home/larisa/projects/dtc_archive/datatalksclub.github.io/_people/olgapetrova.md\n",
      "/home/larisa/projects/dtc_archive/datatalksclub.github.io/_people/parulpandey.md\n",
      "/home/larisa/projects/dtc_archive/datatalksclub.github.io/_people/prateekjoshi.md\n",
      "/home/larisa/projects/dtc_archive/datatalksclub.github.io/_people/marcodesa.md\n",
      "/home/larisa/projects/dtc_archive/datatalksclub.github.io/_people/duygualtinok.md\n",
      "/home/larisa/projects/dtc_archive/datatalksclub.github.io/_people/davidsweet.md\n",
      "/home/larisa/projects/dtc_archive/datatalksclub.github.io/_people/urigilad.md\n",
      "/home/larisa/projects/dtc_archive/datatalksclub.github.io/_people/maximlukichev.md\n"
     ]
    }
   ],
   "source": [
    "for person_file in people_files:\n",
    "    print(person_file)\n",
    "    if person_file.endswith('_template.md'):\n",
    "        continue\n",
    "    \n",
    "    person_fm = frontmatter.load(person_file)\n",
    "\n",
    "    person = Person()\n",
    "    person.id = person_fm['short']\n",
    "    person.name = person_fm['title']\n",
    "    person.bio = person_fm.content\n",
    "    person.profile_image = f\"https://datatalks.club/{person_fm['picture']}\"\n",
    "\n",
    "    socials = []\n",
    "\n",
    "    if 'github' in person_fm:\n",
    "        github = person_fm['github']\n",
    "        if github:\n",
    "            socials.append({\n",
    "                'type': 'github',\n",
    "                'link': f'https://github.com/{github}'\n",
    "            })\n",
    "\n",
    "    if 'twitter' in person_fm:\n",
    "        twitter = person_fm['twitter']\n",
    "        if twitter:\n",
    "            socials.append({\n",
    "                'type': 'twitter',\n",
    "                'link': f'https://twitter.com/{twitter}'\n",
    "            })\n",
    "\n",
    "    if 'linkedin' in person_fm:\n",
    "        linkedin = person_fm['linkedin']\n",
    "        if linkedin:\n",
    "            socials.append({\n",
    "                'type': 'linkedin',\n",
    "                'link': f'https://linkedin.com/in/{linkedin}'\n",
    "            })\n",
    "\n",
    "    if 'web' in person_fm:\n",
    "        web = person_fm['web']\n",
    "        if web:\n",
    "            socials.append({\n",
    "                'type': 'web',\n",
    "                'link': web\n",
    "            })\n",
    "\n",
    "    person.socials = socials\n",
    "    person.save()"
   ]
  },
  {
   "cell_type": "code",
   "execution_count": null,
   "id": "30e82b27",
   "metadata": {},
   "outputs": [],
   "source": []
  },
  {
   "cell_type": "code",
   "execution_count": null,
   "id": "188b7b90",
   "metadata": {},
   "outputs": [],
   "source": []
  },
  {
   "cell_type": "code",
   "execution_count": 6,
   "id": "5a7c302c",
   "metadata": {},
   "outputs": [
    {
     "data": {
      "text/plain": [
       "['/home/larisa/projects/dtc_archive/datatalksclub.github.io/_books/20220328-serverless-analytics-with-amazon-athena.md',\n",
       " '/home/larisa/projects/dtc_archive/datatalksclub.github.io/_books/20210531-advanced-algorithms-and-data-structures.md',\n",
       " '/home/larisa/projects/dtc_archive/datatalksclub.github.io/_books/20220131-effective-pandas.md',\n",
       " '/home/larisa/projects/dtc_archive/datatalksclub.github.io/_books/20210208-ml-design-patterns.md',\n",
       " '/home/larisa/projects/dtc_archive/datatalksclub.github.io/_books/20210308-designing-data-intensive-applications.md',\n",
       " '/home/larisa/projects/dtc_archive/datatalksclub.github.io/_books/20211018-blueprints-for-text-analytics-using-python.md',\n",
       " '/home/larisa/projects/dtc_archive/datatalksclub.github.io/_books/20220117-machine-learning-engineering-with-python.md',\n",
       " '/home/larisa/projects/dtc_archive/datatalksclub.github.io/_books/20211004-transfer-learning-in-action.md',\n",
       " '/home/larisa/projects/dtc_archive/datatalksclub.github.io/_books/20210222-ml-algotrading-2ed.md',\n",
       " '/home/larisa/projects/dtc_archive/datatalksclub.github.io/_books/20210510-the-coding-career-handbook.md',\n",
       " '/home/larisa/projects/dtc_archive/datatalksclub.github.io/_books/20210419-transformers-for-natural-language-processing.md',\n",
       " '/home/larisa/projects/dtc_archive/datatalksclub.github.io/_books/20210920-python-feature-engineering-cookbook.md',\n",
       " '/home/larisa/projects/dtc_archive/datatalksclub.github.io/_books/20220509-artificial-intelligence-with-python.md',\n",
       " '/home/larisa/projects/dtc_archive/datatalksclub.github.io/_books/20210329-learning-tensorflow-js.md',\n",
       " '/home/larisa/projects/dtc_archive/datatalksclub.github.io/_books/20220228-hands-on-data-preprocessing-in-python.md',\n",
       " '/home/larisa/projects/dtc_archive/datatalksclub.github.io/_books/20211213-mastering-spacy.md',\n",
       " '/home/larisa/projects/dtc_archive/datatalksclub.github.io/_books/20211025-data-analysis-with-python-and-pyspark.md',\n",
       " '/home/larisa/projects/dtc_archive/datatalksclub.github.io/_books/20210614-graph-databases-in-action.md',\n",
       " '/home/larisa/projects/dtc_archive/datatalksclub.github.io/_books/20210405-the-practitioners-guide-to-graph-data.md',\n",
       " '/home/larisa/projects/dtc_archive/datatalksclub.github.io/_books/20210705-engineering-mlops.md',\n",
       " '/home/larisa/projects/dtc_archive/datatalksclub.github.io/_books/20210517-grokking-deep-reinforcement-learning.md',\n",
       " '/home/larisa/projects/dtc_archive/datatalksclub.github.io/_books/20211122-building-machine-learning-powered-applications.md',\n",
       " '/home/larisa/projects/dtc_archive/datatalksclub.github.io/_books/20211101-ai-powered-search.md',\n",
       " '/home/larisa/projects/dtc_archive/datatalksclub.github.io/_books/20211129-own-your-tech-career.md',\n",
       " '/home/larisa/projects/dtc_archive/datatalksclub.github.io/_books/20210201-data-teams.md',\n",
       " '/home/larisa/projects/dtc_archive/datatalksclub.github.io/_books/20210719-interpretable-machine-learning-with-python.md',\n",
       " '/home/larisa/projects/dtc_archive/datatalksclub.github.io/_books/20210503-machine-learning-using-tensorflow-cookbook.md',\n",
       " '/home/larisa/projects/dtc_archive/datatalksclub.github.io/_books/20210125-mastering-ml-algorithms-2ed.md',\n",
       " '/home/larisa/projects/dtc_archive/datatalksclub.github.io/_books/20210927-effective-data-science-infrastructure.md',\n",
       " '/home/larisa/projects/dtc_archive/datatalksclub.github.io/_books/20220214-a-visual-introduction-to-deep-learning.md',\n",
       " '/home/larisa/projects/dtc_archive/datatalksclub.github.io/_books/20210426-tiny-python-projects.md',\n",
       " '/home/larisa/projects/dtc_archive/datatalksclub.github.io/_books/20210628-data-science-on-aws.md',\n",
       " '/home/larisa/projects/dtc_archive/datatalksclub.github.io/_books/20211115-ace-the-data-science-interview.md',\n",
       " '/home/larisa/projects/dtc_archive/datatalksclub.github.io/_books/20210621-cleaning-data-for-effective-data-science.md',\n",
       " '/home/larisa/projects/dtc_archive/datatalksclub.github.io/_books/20210524-data-governance-the-definitive-guide.md',\n",
       " '/home/larisa/projects/dtc_archive/datatalksclub.github.io/_books/20210913-dataops-for-dummies.md',\n",
       " '/home/larisa/projects/dtc_archive/datatalksclub.github.io/_books/20210809-grokking-machine-learning.md',\n",
       " '/home/larisa/projects/dtc_archive/datatalksclub.github.io/_books/20210322-street-coder.md',\n",
       " '/home/larisa/projects/dtc_archive/datatalksclub.github.io/_books/_template.md',\n",
       " '/home/larisa/projects/dtc_archive/datatalksclub.github.io/_books/20210301-ml-engineering.md',\n",
       " '/home/larisa/projects/dtc_archive/datatalksclub.github.io/_books/20210315-database-internals.md',\n",
       " '/home/larisa/projects/dtc_archive/datatalksclub.github.io/_books/20211206-deep-learning-with-fastai-cookbook.md',\n",
       " '/home/larisa/projects/dtc_archive/datatalksclub.github.io/_books/20220411-interpretable-machine-learning.md',\n",
       " '/home/larisa/projects/dtc_archive/datatalksclub.github.io/_books/20220314-data-engineering-with-apache-spark-delta-lake-and-lakehouse.md',\n",
       " '/home/larisa/projects/dtc_archive/datatalksclub.github.io/_books/20210215-math-for-programmers.md',\n",
       " '/home/larisa/projects/dtc_archive/datatalksclub.github.io/_books/20210816-tuning-up.md',\n",
       " '/home/larisa/projects/dtc_archive/datatalksclub.github.io/_books/20210726-applied-natural-language-processing-in-the-enterprise.md',\n",
       " '/home/larisa/projects/dtc_archive/datatalksclub.github.io/_books/20210412-ai-and-machine-learning-for-coders.md',\n",
       " '/home/larisa/projects/dtc_archive/datatalksclub.github.io/_books/20210607-building-machine-learning-pipelines.md',\n",
       " '/home/larisa/projects/dtc_archive/datatalksclub.github.io/_books/20211108-generative-ai-with-python-and-tensorflow-2.md',\n",
       " '/home/larisa/projects/dtc_archive/datatalksclub.github.io/_books/20210111-reinforcement-learning.md',\n",
       " '/home/larisa/projects/dtc_archive/datatalksclub.github.io/_books/20210802-practical-recommender-systems.md',\n",
       " '/home/larisa/projects/dtc_archive/datatalksclub.github.io/_books/20210823-business-skills-for-data-scientists.md',\n",
       " '/home/larisa/projects/dtc_archive/datatalksclub.github.io/_books/20211011-mastering-transformers.md',\n",
       " '/home/larisa/projects/dtc_archive/datatalksclub.github.io/_books/20210830-practical-mlops.md',\n",
       " '/home/larisa/projects/dtc_archive/datatalksclub.github.io/_books/20220523-practical-fairness.md',\n",
       " '/home/larisa/projects/dtc_archive/datatalksclub.github.io/_books/20210906-software-mistakes-and-tradeoffs.md',\n",
       " '/home/larisa/projects/dtc_archive/datatalksclub.github.io/_books/20210118-deep-learning-structured-data.md',\n",
       " '/home/larisa/projects/dtc_archive/datatalksclub.github.io/_books/20201214-ml-bookcamp.md',\n",
       " '/home/larisa/projects/dtc_archive/datatalksclub.github.io/_books/20210712-relevant-search.md']"
      ]
     },
     "execution_count": 6,
     "metadata": {},
     "output_type": "execute_result"
    }
   ],
   "source": [
    "books_files = glob(path + '/_books/*.md')\n",
    "books_files\n"
   ]
  },
  {
   "cell_type": "code",
   "execution_count": 7,
   "id": "a81f9d9e",
   "metadata": {},
   "outputs": [
    {
     "name": "stdout",
     "output_type": "stream",
     "text": [
      "ups. author_id=Valliappa Lakshmanan does not exist\n",
      "ups. author_id=Sara Robinson does not exist\n",
      "ups. author_id=Dipanjan Sarkar does not exist\n",
      "ups. author_id=Josh Perryman does not exist\n",
      "ups. author_id=Trey Grainger does not exist\n",
      "ups. author_id=Max Irwin does not exist\n",
      "ups. author_id=Konrad Banachewicz does not exist\n",
      "ups. author_id=Luca Massaron does not exist\n",
      "ups. author_id=Evren Eryurek does not exist\n",
      "ups. author_id=Valliappa Lakshmanan does not exist\n",
      "ups. author_id=Anita Kibunguchy-Grant does not exist\n",
      "ups. author_id=Justin Mullen does not exist\n",
      "ups. author_id=Ajay Uppili Arasanipalai does not exist\n",
      "ups. author_id=Catherine Nelson does not exist\n",
      "ups. author_id=Joseph Babcock does not exist\n",
      "ups. author_id=Alfredo Deza does not exist\n",
      "ups. author_id=John Berryman does not exist\n"
     ]
    }
   ],
   "source": [
    "for book_file in books_files:\n",
    "#     print(book_file)\n",
    "    if book_file.endswith('_template.md'):\n",
    "        continue\n",
    "    book_fm = frontmatter.load(book_file)\n",
    "    book_id = book_file.split('/')[-1].split('.')[0]\n",
    "    \n",
    "    book = Book()\n",
    "    book.id = book_id\n",
    "    book.title = book_fm['title']\n",
    "    book.description = book_fm.content\n",
    "    # book.authors.set([Person.objects.get(id='anthonyvirtuoso')])\n",
    "    book.cover_image = f\"https://datatalks.club/{book_fm['cover']}\"\n",
    "    book.preview_image = f\"https://datatalks.club/{book_fm['image']}\"\n",
    "    book.start_date = book_fm['start']\n",
    "    book.end_date = book_fm['end']\n",
    "    book.links = book_fm['links']\n",
    "    if 'archive' in book_fm:\n",
    "        book.archive = book_fm['archive']\n",
    "    book.save()\n",
    "    \n",
    "    authors = []\n",
    "\n",
    "    for author_id in book_fm['authors']:\n",
    "        try:\n",
    "            author = Person.objects.get(id=author_id)\n",
    "            authors.append(author)\n",
    "        except:\n",
    "            print(f'ups. author_id={author_id} does not exist')\n",
    "    book.authors.set(authors)\n",
    "    book.save()"
   ]
  },
  {
   "cell_type": "code",
   "execution_count": null,
   "id": "3038b4fa",
   "metadata": {},
   "outputs": [],
   "source": []
  },
  {
   "cell_type": "code",
   "execution_count": 8,
   "id": "22cbef70",
   "metadata": {},
   "outputs": [],
   "source": [
    "podcast_files = glob(path + '/_podcast/*.md')\n",
    "\n",
    "for episode_file in podcast_files:\n",
    "    if episode_file.endswith('_template.md'):\n",
    "        continue \n",
    "\n",
    "    episode_fm = frontmatter.load(episode_file)\n",
    "    episode_id = episode_file.split('/')[-1].split('.')[0]\n",
    "    \n",
    "    episode = Podcast()\n",
    "    episode.id = episode_id\n",
    "    episode.title = episode_fm['title']\n",
    "    # episode.guests = \n",
    "    episode.preview_image = f\"https://datatalks.club/{episode_fm['image']}\"\n",
    "    episode.season = episode_fm['season']\n",
    "    episode.episode = episode_fm['episode']\n",
    "    episode.episode_links = episode_fm['links']\n",
    "    # episode.links_from_guests = \n",
    "    if 'transcript' in episode_fm:\n",
    "        episode.transcript = episode_fm['transcript']\n",
    "    episode.save()\n",
    "\n",
    "    guests = []\n",
    "\n",
    "    for guest_id in episode_fm['guests']:\n",
    "        guest = Person.objects.get(id=guest_id)\n",
    "        guests.append(guest)\n",
    "    episode.guests.set(guests)\n",
    "    episode.save()\n",
    "    "
   ]
  },
  {
   "cell_type": "code",
   "execution_count": 55,
   "id": "635ddf99",
   "metadata": {},
   "outputs": [],
   "source": [
    "tags = ['team', 'process', 'podcast']"
   ]
  },
  {
   "cell_type": "code",
   "execution_count": 60,
   "id": "3c347a31",
   "metadata": {},
   "outputs": [],
   "source": [
    "\n",
    "s = set()"
   ]
  },
  {
   "cell_type": "code",
   "execution_count": 61,
   "id": "41755510",
   "metadata": {},
   "outputs": [],
   "source": [
    "for tag in tags:\n",
    "    s.add(tag)"
   ]
  },
  {
   "cell_type": "code",
   "execution_count": 59,
   "id": "dd613d61",
   "metadata": {},
   "outputs": [],
   "source": [
    "s.update(tags)"
   ]
  },
  {
   "cell_type": "code",
   "execution_count": 62,
   "id": "cce9c463",
   "metadata": {},
   "outputs": [
    {
     "data": {
      "text/plain": [
       "{'podcast', 'process', 'team'}"
      ]
     },
     "execution_count": 62,
     "metadata": {},
     "output_type": "execute_result"
    }
   ],
   "source": [
    "s"
   ]
  },
  {
   "cell_type": "code",
   "execution_count": 19,
   "id": "b802ed51",
   "metadata": {},
   "outputs": [
    {
     "data": {
      "text/plain": [
       "'We talked about:\\n\\n- Lars’ career\\n- Doing DataOps before it existed\\n- What is DataOps\\n- Data platform\\n- Data warehouses and data lakes\\n- Main components of the data platform and tools to implement it\\n- Books about functional programming principles\\n- Batch vs streaming\\n- Maturity levels\\n- Building self-service tools\\n- MLOps vs DataOps\\n- Data Mesh\\n- Lake house\\n\\n\\nLinks:\\n\\n- [https://www.scling.com/reading-list](https://www.scling.com/reading-list){:target=\"_blank\"}\\n- [https://www.scling.com/presentations](https://www.scling.com/presentations){:target=\"_blank\"}'"
      ]
     },
     "execution_count": 19,
     "metadata": {},
     "output_type": "execute_result"
    }
   ],
   "source": [
    "episod_fm.content"
   ]
  },
  {
   "cell_type": "code",
   "execution_count": 9,
   "id": "85223c04",
   "metadata": {},
   "outputs": [],
   "source": [
    "rtags = set()\n",
    "posts_files = glob(path + '/_posts/*.md')\n",
    "# post_file = posts_files[0]\n",
    "for post_file in posts_files:\n",
    "    post_fm = frontmatter.load(post_file)\n",
    "    rtags.update(post_fm['tags'])\n",
    "for rtag in rtags:\n",
    "    tag = Tag()\n",
    "    tag.id = rtag\n",
    "    tag.name = rtag\n",
    "    tag.save()"
   ]
  },
  {
   "cell_type": "code",
   "execution_count": null,
   "id": "b854c06e",
   "metadata": {},
   "outputs": [],
   "source": []
  },
  {
   "cell_type": "code",
   "execution_count": null,
   "id": "855b27a6",
   "metadata": {},
   "outputs": [],
   "source": []
  },
  {
   "cell_type": "code",
   "execution_count": null,
   "id": "57a6aeb1",
   "metadata": {},
   "outputs": [],
   "source": []
  },
  {
   "cell_type": "code",
   "execution_count": 10,
   "id": "e3da156b",
   "metadata": {
    "scrolled": true
   },
   "outputs": [],
   "source": [
    "posts_files = glob(path + '/_posts/*.md')\n",
    "# post_file = posts_files[0]\n",
    "# post_file"
   ]
  },
  {
   "cell_type": "code",
   "execution_count": 11,
   "id": "1093694d",
   "metadata": {},
   "outputs": [],
   "source": [
    "for post_file in posts_files:\n",
    "    \n",
    "    post_fm = frontmatter.load(post_file)\n",
    "    post_id = post_file.split('/')[-1].split('.')[0][11:]\n",
    "    \n",
    "    post = Post()\n",
    "    post.id = post_id\n",
    "    post.title = post_fm['title']\n",
    "    if 'subtitle' in post_fm:\n",
    "        post.subtitle = post_fm['subtitle']\n",
    "    post.preview_image = f\"https://datatalks.club/{post_fm['image']}\"\n",
    "    post.created_at = post_file.split('/')[-1].split('.')[0][:10]\n",
    "    post.modified_at = post_file.split('/')[-1].split('.')[0][:10]\n",
    "    post.content = post_fm.content\n",
    "    post.save()\n",
    "\n",
    "    authors = []\n",
    "\n",
    "    for author_id in post_fm['authors']:\n",
    "        author = Person.objects.get(id=author_id)\n",
    "        authors.append(author)\n",
    "    post.authors.set(authors)\n",
    "    post.save()\n",
    "\n",
    "    tags = []\n",
    "\n",
    "    for tag_id in post_fm['tags']:\n",
    "        tag = Tag.objects.get(id=tag_id)\n",
    "        tags.append(tag)\n",
    "    post.tags.set(tags)\n",
    "    post.save()\n",
    "\n"
   ]
  },
  {
   "cell_type": "code",
   "execution_count": 77,
   "id": "d561d137",
   "metadata": {},
   "outputs": [],
   "source": []
  },
  {
   "cell_type": "code",
   "execution_count": 12,
   "id": "0f8be0b0",
   "metadata": {},
   "outputs": [
    {
     "data": {
      "text/plain": [
       "['/home/larisa/projects/dtc_archive/datatalksclub.github.io/_tools/obsei.md',\n",
       " '/home/larisa/projects/dtc_archive/datatalksclub.github.io/_tools/modelstore.md']"
      ]
     },
     "execution_count": 12,
     "metadata": {},
     "output_type": "execute_result"
    }
   ],
   "source": [
    "tools_files = glob(path + '/_tools/*.md')\n",
    "# tools_file = tools_files[0]\n",
    "tools_files\n"
   ]
  },
  {
   "cell_type": "code",
   "execution_count": 14,
   "id": "d8d3d97d",
   "metadata": {},
   "outputs": [],
   "source": [
    "for tool_file in tools_files:\n",
    "    tool_fm = frontmatter.load(tool_file)\n",
    "    # tool_fm.to_dict()\n",
    "    tool_id = tool_file.split('/')[-1].split('.')[0]\n",
    "    \n",
    "    tool = Tool()\n",
    "    tool.id = tool_id\n",
    "    tool.title = tool_fm['name']\n",
    "    # tool.description = \n",
    "    # tool.icon_picture = \n",
    "    # tool.preview_image = \n",
    "    tool.youtube_link = tool_fm['demo']\n",
    "    if 'github' in tool_fm:\n",
    "        tool.links = tool_fm['github']\n",
    "    tool.created_at = datetime.datetime.now()\n",
    "    tool.save()\n",
    "\n",
    "    speakers = []\n",
    "\n",
    "    for speaker_id in tool_fm['who']:\n",
    "        speaker = Person.objects.get(id=speaker_id)\n",
    "        speakers.append(speaker)\n",
    "    tool.speakers.set(speakers)\n",
    "    tool.save()\n",
    "\n",
    "    tags = []\n",
    "     \n",
    "\n",
    "    for tag_id in tool_fm['categories']:\n",
    "        \n",
    "        if not Tag.objects.filter(pk=tag_id).exists():\n",
    "            tag = Tag()\n",
    "            tag.id = tag_id\n",
    "            tag.name = tag_id\n",
    "            tag.save()\n",
    "        tag = Tag.objects.get(id=tag_id)\n",
    "        tags.append(tag)\n",
    "    tool.tags.set(tags)\n",
    "    tool.save()\n"
   ]
  },
  {
   "cell_type": "code",
   "execution_count": 96,
   "id": "4908534d",
   "metadata": {},
   "outputs": [],
   "source": [
    "\n"
   ]
  },
  {
   "cell_type": "code",
   "execution_count": 94,
   "id": "09a65a9b",
   "metadata": {},
   "outputs": [],
   "source": [
    "\n"
   ]
  },
  {
   "cell_type": "code",
   "execution_count": null,
   "id": "57a48422",
   "metadata": {},
   "outputs": [],
   "source": []
  },
  {
   "cell_type": "code",
   "execution_count": null,
   "id": "37760b89",
   "metadata": {},
   "outputs": [],
   "source": []
  },
  {
   "cell_type": "code",
   "execution_count": 5,
   "id": "cb45ca11",
   "metadata": {},
   "outputs": [
    {
     "data": {
      "text/plain": [
       "{'title': 'Machine Learning Zoomcamp (2021)',\n",
       " 'description': 'Learn machine learning engineering in 4 months in a free online course',\n",
       " 'image': 'images/courses/zoomcamp.jpg',\n",
       " 'layout': 'page',\n",
       " 'schedule': [{'title': 'Introduction to Machine Learning',\n",
       "   'subtitle': 'Course overview and logistics',\n",
       "   'start': datetime.datetime(2021, 9, 6, 17, 0),\n",
       "   'link': 'https://github.com/alexeygrigorev/mlbookcamp-code/tree/master/course-zoomcamp/01-intro',\n",
       "   'content': ['Understanding machine learning and the problems it can solve',\n",
       "    'CRISP-DM: Organizing a successful machine learning project',\n",
       "    'Setting up the environment',\n",
       "    'Quick introduction to Python, Numpy, Linear algebra and Pandas']},\n",
       "  {'title': 'Machine Learning for Regression',\n",
       "   'subtitle': 'Predicting the price of a car',\n",
       "   'start': datetime.datetime(2021, 9, 13, 17, 0),\n",
       "   'link': 'https://github.com/alexeygrigorev/mlbookcamp-code/tree/master/course-zoomcamp/02-regression',\n",
       "   'content': ['Creating a car-price prediction project with a linear regression model',\n",
       "    'Doing an initial exploratory data analysis with Jupyter notebooks',\n",
       "    'Setting up a validation framework',\n",
       "    'Implementing the linear regression model from scratch',\n",
       "    'Evaluating the model: using RMSE',\n",
       "    'Performing simple feature engineering for the model',\n",
       "    'Keeping the model under control with regularization']},\n",
       "  {'title': 'Machine Learning for Classification',\n",
       "   'subtitle': 'Predicting churning users',\n",
       "   'start': datetime.datetime(2021, 9, 20, 17, 0),\n",
       "   'link': 'https://github.com/alexeygrigorev/mlbookcamp-code/tree/master/course-zoomcamp/03-classification',\n",
       "   'content': ['Predicting customers who will churn with logistic regression',\n",
       "    'Doing exploratory data analysis for identifying important features',\n",
       "    'Encoding categorical variables to use them in machine learning models',\n",
       "    'Using logistic regression for classification']},\n",
       "  {'title': 'Evaluation Metrics for Classification',\n",
       "   'subtitle': 'Evaluating the churn prediction model',\n",
       "   'start': datetime.datetime(2021, 9, 27, 17, 0),\n",
       "   'link': 'https://github.com/alexeygrigorev/mlbookcamp-code/tree/master/course-zoomcamp/04-evaluation',\n",
       "   'content': ['Accuracy as a way of evaluating binary classification models and its limitations',\n",
       "    'Determining where our model makes mistakes using a confusion table',\n",
       "    'Deriving other metrics like precision and recall from the confusion table',\n",
       "    'Using ROC and AUC to further understand the performance of a binary classification model',\n",
       "    'Cross-validating a model to make sure it behaves optimally',\n",
       "    'Tuning the parameters of a model to achieve the best predictive performance']},\n",
       "  {'title': 'Deploying Machine Learning Models',\n",
       "   'subtitle': 'Deploying the churn prediction model',\n",
       "   'start': datetime.datetime(2021, 10, 4, 17, 0),\n",
       "   'link': 'https://github.com/alexeygrigorev/mlbookcamp-code/tree/master/course-zoomcamp/05-deployment',\n",
       "   'content': ['Saving models with Pickle',\n",
       "    'Serving models with Flask',\n",
       "    'Managing dependencies with Pipenv',\n",
       "    'Making the service self-contained with Docker',\n",
       "    'Deploying it to the cloud using AWS Elastic Beanstalk']},\n",
       "  {'title': 'Decision Trees and Ensemble Learning',\n",
       "   'subtitle': 'Credit risk scoring project',\n",
       "   'start': datetime.datetime(2021, 10, 11, 17, 0),\n",
       "   'content': ['Predicting the risk of default with tree-based models',\n",
       "    'Decision trees and the decision tree learning algorithm',\n",
       "    'Random forest: putting multiple trees together into one model',\n",
       "    'Gradient boosting as an alternative way of combining decision trees']},\n",
       "  {'title': 'Midterm Project',\n",
       "   'subtitle': 'Implement a project end-to-end',\n",
       "   'start': datetime.datetime(2021, 10, 18, 17, 0),\n",
       "   'content': ['Finding a problem and a dataset',\n",
       "    'EDA and data cleaning',\n",
       "    'Selecting the best model',\n",
       "    'Deploying this model as a web service']},\n",
       "  {'title': 'Neural Networks and Deep Learning',\n",
       "   'subtitle': 'Classifying the images of clothes',\n",
       "   'start': datetime.datetime(2021, 11, 1, 17, 0),\n",
       "   'content': ['Convolutional neural networks for image classification',\n",
       "    'TensorFlow and Keras: frameworks for building neural networks',\n",
       "    'Using pre-trained neural networks',\n",
       "    'Internals of a convolutional neural network',\n",
       "    'Training a model with transfer learning',\n",
       "    'Data augmentations: the process of generating more training data']},\n",
       "  {'title': 'Serverless Deep Learning',\n",
       "   'subtitle': 'Serving the clothes classification model with AWS Lambda',\n",
       "   'start': datetime.datetime(2021, 11, 8, 17, 0),\n",
       "   'content': ['Serving models with TensorFlow-Lite',\n",
       "    'Deploying deep learning models with AWS Lambda',\n",
       "    'Exposing the Lambda function as a web service via API Gateway']},\n",
       "  {'title': 'Kubernetes and TensorFlow-Serving',\n",
       "   'subtitle': 'Serving the clothes classification model with Kubernetes and TensorFlow-Serving',\n",
       "   'start': datetime.datetime(2021, 11, 15, 17, 0),\n",
       "   'content': ['Understanding different methods of deploying and serving models in the cloud.',\n",
       "    'Serving Keras and TensorFlow models with TensorFlow-Serving',\n",
       "    'Deploying TensorFlow-Serving to Kubernetes']},\n",
       "  {'title': 'Kubeflow and KFServing',\n",
       "   'subtitle': 'Serving the clothes classification model with KFServing',\n",
       "   'start': datetime.datetime(2021, 11, 22, 17, 0),\n",
       "   'content': ['Using Kubeflow and KFServing for simplifying the deployment process']},\n",
       "  {'title': 'Capstone Project',\n",
       "   'subtitle': 'Do a project end-to-end',\n",
       "   'start': datetime.datetime(2021, 11, 22, 17, 0),\n",
       "   'content': ['Finding a problem and a dataset',\n",
       "    'EDA and data cleaning',\n",
       "    'Selecting the best model',\n",
       "    'Deploying this model as a web service']},\n",
       "  {'title': 'Article',\n",
       "   'subtitle': 'Teach us something',\n",
       "   'start': datetime.datetime(2021, 11, 22, 17, 0),\n",
       "   'content': ['Do some research about a topic that wasn’t covered in the course and write an article about it (with code!)']}],\n",
       " 'team': [{'name': 'alexeygrigorev', 'role': 'Instructor'},\n",
       "  {'name': 'dmitrymuzalevskiy', 'role': 'Teaching Assistant'},\n",
       "  {'name': 'wendymak', 'role': 'Teaching Assistant'}],\n",
       " 'faq': [{'Q': 'Is it going to be live? When?',\n",
       "   'A': 'It is, on Mondays at 17:00 CET.'},\n",
       "  {'Q': 'Will it be recorded?',\n",
       "   'A': \"Yes, everything will be recorded and you can watch the recording when it's convenient for you.\"},\n",
       "  {'Q': 'What if I miss a session?',\n",
       "   'A': 'The sessions are recorded, and you can ask questions in Slack.'},\n",
       "  {'Q': 'How much theory will you cover?',\n",
       "   'A': \"The bare minimum. The focus is more on practice, and we'll cover the theory only on the intuitive level. E.g. we won't derive the gradient update rule for logistic regression (there are other great courses for that), but we'll cover how to use logistic regression and make sense of the results.\"},\n",
       "  {'Q': \"I don't know math. Can I take the course?\",\n",
       "   'A': \"Yes! We'll cover some linear algebra in the course, but in general, there will be very few formulas, mostly code.\"},\n",
       "  {'Q': 'How long will the sessions be?',\n",
       "   'A': 'Not longer than one hour each.'},\n",
       "  {'Q': \"I filled the form, but haven't received a confirmation email. Is it normal?\",\n",
       "   'A': 'Yes. We process the sign-ups once per week. To make sure you don\\'t miss anything, join the <a href=\"https://app.slack.com/client/T01ATQK62F8/C0288NJ5XSA\" target=\"_blank\"><code>#course-ml-zoomcamp</code></a> channel.'}],\n",
       " 'partners': [{'name': 'Confetti',\n",
       "   'link': 'https://www.confetti.ai/',\n",
       "   'image': '/images/partners/confetti.png'},\n",
       "  {'name': 'MLOps.community',\n",
       "   'link': 'https://mlops.community/',\n",
       "   'image': '/images/partners/mlops-community.jpg'}],\n",
       " 'content': '# Machine Learning Zoomcamp\\n\\nLearn machine learning engineering in 4 months (September 2021 &ndash; December 2021). Online and free!\\n\\n<center>\\n<a href=\"https://airtable.com/shr6Gz46UZCgJ9l6w\" target=\"_blank\" class=\"btn btn-secondary btn-lg my-3\">\\n<i class=\"fas fa-rocket\"></i>\\nRegister here</a>\\n</center>\\n\\nPlan:\\n\\n<ul>\\n{% for session in page.schedule %}\\n  <li><a href=\"#{{ session.title | slugify }}\">{{ session.title }}</a> ({{ session.start | date: \"%d %B %Y\" }})</li>\\n{% endfor %}\\n</ul>\\n\\n<center>\\n<a href=\"https://ctt.ac/XZ6b9\" target=\"_blank\" class=\"btn btn-secondary btn-lg my-3\">\\n<i class=\"fab fa-twitter\"></i>\\nTweet about it!</a>\\n</center>\\n\\n\\nLogistics:\\n\\n* Each week, there’s a lecture and a homework assignment.\\n* We have two projects: in the middle of the class and a capstone project at the end. Those who complete these two projects get a certificate.\\n* For homework, projects and other activities, you’ll get scores. At the end, we’ll publish the list of top 100 participants on our website.\\n\\nThe schedule and the plan are work in progress.\\n\\n\\n{% for session in page.schedule %}\\n  <h3 id=\"{{ session.title | slugify }}\">{{ session.title }}</h3>\\n  {{ session.subtitle }} &ndash; <span class=\"datetime grey-text\">{{ session.start | date: \"%A, %d %B at %H:%M\" }} CET</span>\\n\\n  <ul>\\n  {% for item in session.content %}\\n    <li>{{ item }}</li>\\n  {% endfor %}  \\n  </ul>\\n\\n  {% if session.link %}<a href=\"{{ session.link }}\" target=\"_blank\">Lesson materials</a>{% endif %}\\n{% endfor %}\\n\\nDon\\'t forget to [register in Slack](/slack.html){:target=\"_blank\"} and join [#course-ml-zoomcamp](https://app.slack.com/client/T01ATQK62F8/C0288NJ5XSA){:target=\"_blank\"} channel.\\n\\n\\n&nbsp;\\n\\n<center>\\n<a href=\"https://airtable.com/shr6Gz46UZCgJ9l6w\" target=\"_blank\" class=\"btn btn-secondary btn-lg my-3\">Register here</a>\\n</center>\\n\\n&nbsp;\\n\\n\\n## Team\\n\\n<div class=\"row\" style=\"justify-content: center;\">\\n{% for teacher in page.team %}\\n  {% assign teacher_info = site.people | where: \"short\", teacher.name | first %}\\n  <div class=\"teacher-wrap col-md-3 text-center\">\\n    <div class=\"talk-speaker-img-container\">\\n      <img class=\"talk-speaker-img\" src=\"/{{ teacher_info.picture }}\" />\\n    </div>\\n    <div class=\"teacher-info\">\\n      <p><a href=\"/people/{{ teacher.name }}.html\" target=\"_blank\">{{ teacher_info.title }}</a></p>\\n      <p><span class=\"grey-text\">{{ teacher.role }}</span></p>\\n    </div>\\n  </div>\\n{% endfor %}\\n</div>\\n\\n\\n&nbsp;\\n\\n<h2 id=\"faq\">FAQ</h2>\\n\\n{% for qa in page.faq %}\\n<p class=\"mb-3\">\\n  <b>Question:</b> {{ qa.Q }}<br/>\\n  <b>Answer:</b> {{ qa.A }}\\n</p>\\n{% endfor %}\\n\\n&nbsp;\\n\\n<center>\\n<a href=\"https://airtable.com/shr6Gz46UZCgJ9l6w\" target=\"_blank\" class=\"btn btn-secondary btn-lg my-3\">Register here</a>\\n</center>\\n\\n\\n&nbsp;\\n\\n## Course community partners\\n\\n<div class=\"text-center row justify-content-center\">\\n{% for partner in page.partners %}\\n  <div class=\"my-3 col-md-6\" style=\"display: flex\">\\n    <a href=\"{{ partner.link }}\" style=\"margin: auto\" target=\"_blank\">\\n      <img src=\"{{ partner.image }}\" class=\"partner\"/>\\n    </a>\\n  </div>\\n{% endfor %}\\n</div>\\n\\nThank you for your support!'}"
      ]
     },
     "execution_count": 5,
     "metadata": {},
     "output_type": "execute_result"
    }
   ],
   "source": [
    "courses_file = glob(path + '/_courses/*.md')\n",
    "course_file = courses_file[0]\n",
    "course_fm = frontmatter.load(course_file) \n",
    "course_fm.to_dict()"
   ]
  },
  {
   "cell_type": "code",
   "execution_count": 19,
   "id": "ed6451cd",
   "metadata": {},
   "outputs": [
    {
     "data": {
      "text/plain": [
       "['/home/larisa/projects/dtc_archive/datatalksclub.github.io/_courses/2021-winter-ml-zoomcamp.md']"
      ]
     },
     "execution_count": 19,
     "metadata": {},
     "output_type": "execute_result"
    }
   ],
   "source": [
    "course_file"
   ]
  },
  {
   "cell_type": "code",
   "execution_count": 6,
   "id": "6cd6dc61",
   "metadata": {},
   "outputs": [],
   "source": [
    "course_id = course_file.split('/')[-1].split('.')[0]"
   ]
  },
  {
   "cell_type": "code",
   "execution_count": 7,
   "id": "53d4b32d",
   "metadata": {},
   "outputs": [],
   "source": [
    "def convert_date(dt):\n",
    "    return {\n",
    "        'year': dt.year,\n",
    "        'month': dt.month,\n",
    "        'day': dt.day\n",
    "    }"
   ]
  },
  {
   "cell_type": "code",
   "execution_count": 8,
   "id": "8ca4a9fe",
   "metadata": {},
   "outputs": [
    {
     "data": {
      "text/plain": [
       "{'year': 2021, 'month': 9, 'day': 6}"
      ]
     },
     "execution_count": 8,
     "metadata": {},
     "output_type": "execute_result"
    }
   ],
   "source": [
    "convert_date(course_fm['schedule'][0]['start'])"
   ]
  },
  {
   "cell_type": "code",
   "execution_count": 9,
   "id": "50d90a4f",
   "metadata": {},
   "outputs": [],
   "source": [
    "for item in course_fm['schedule']:\n",
    "    item['start'] = convert_date(item['start'])"
   ]
  },
  {
   "cell_type": "code",
   "execution_count": 10,
   "id": "5653d841",
   "metadata": {},
   "outputs": [
    {
     "data": {
      "text/plain": [
       "[{'name': 'alexeygrigorev', 'role': 'Instructor'},\n",
       " {'name': 'dmitrymuzalevskiy', 'role': 'Teaching Assistant'},\n",
       " {'name': 'wendymak', 'role': 'Teaching Assistant'}]"
      ]
     },
     "execution_count": 10,
     "metadata": {},
     "output_type": "execute_result"
    }
   ],
   "source": [
    "course_fm['team']"
   ]
  },
  {
   "cell_type": "code",
   "execution_count": 11,
   "id": "8c22ca2e",
   "metadata": {
    "scrolled": true
   },
   "outputs": [],
   "source": [
    "course = Course()\n",
    "course.id = course_id\n",
    "course.title = course_fm['title']\n",
    "course.short_description = course_fm['description']\n",
    "course.cover_image = f\"https://datatalks.club/{course_fm['image']}\"\n",
    "course.start_date = '2021-09-06'\n",
    "course.end_date = '2022-01-31'\n",
    "course.syllabus = course_fm['schedule']\n",
    "course.partners = course_fm['partners']\n",
    "# course.registration_link\n",
    "course.save()\n",
    "\n",
    "people = []\n",
    "for person_dict in course_fm['team']:\n",
    "    person_id = person_dict['name']\n",
    "    person = Person.objects.get(id=person_id)\n",
    "    people.append(person)\n",
    "course.people.set(people)\n",
    "course.save()\n",
    "    \n",
    "\n"
   ]
  },
  {
   "cell_type": "code",
   "execution_count": null,
   "id": "3f4ac02a",
   "metadata": {},
   "outputs": [],
   "source": []
  },
  {
   "cell_type": "code",
   "execution_count": null,
   "id": "af37904a",
   "metadata": {},
   "outputs": [],
   "source": []
  }
 ],
 "metadata": {
  "kernelspec": {
   "display_name": "dtc-django",
   "language": "python",
   "name": "dtc-django"
  },
  "language_info": {
   "codemirror_mode": {
    "name": "ipython",
    "version": 3
   },
   "file_extension": ".py",
   "mimetype": "text/x-python",
   "name": "python",
   "nbconvert_exporter": "python",
   "pygments_lexer": "ipython3",
   "version": "3.8.10"
  }
 },
 "nbformat": 4,
 "nbformat_minor": 5
}
