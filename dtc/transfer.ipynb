{
 "cells": [
  {
   "cell_type": "code",
   "execution_count": 38,
   "id": "57a920f9",
   "metadata": {},
   "outputs": [
    {
     "name": "stderr",
     "output_type": "stream",
     "text": [
      "/home/larisa/.local/share/virtualenvs/website-django-i0QUG990/lib/python3.8/site-packages/tqdm/auto.py:22: TqdmWarning: IProgress not found. Please update jupyter and ipywidgets. See https://ipywidgets.readthedocs.io/en/stable/user_install.html\n",
      "  from .autonotebook import tqdm as notebook_tqdm\n"
     ]
    }
   ],
   "source": [
    "from tqdm.auto import tqdm"
   ]
  },
  {
   "cell_type": "code",
   "execution_count": 24,
   "id": "1c7db369",
   "metadata": {},
   "outputs": [],
   "source": [
    "import frontmatter\n",
    "from glob import glob"
   ]
  },
  {
   "cell_type": "code",
   "execution_count": 2,
   "id": "92a33a3c",
   "metadata": {},
   "outputs": [],
   "source": [
    "import os\n",
    "\n",
    "os.environ.setdefault(\"DJANGO_SETTINGS_MODULE\", \"dtc.settings\")\n",
    "os.environ[\"DJANGO_ALLOW_ASYNC_UNSAFE\"] = \"true\"\n",
    "\n",
    "import django\n",
    "django.setup()"
   ]
  },
  {
   "cell_type": "code",
   "execution_count": 19,
   "id": "57434ab0",
   "metadata": {},
   "outputs": [],
   "source": [
    "from root.models import *"
   ]
  },
  {
   "cell_type": "code",
   "execution_count": 22,
   "id": "47cadfa8",
   "metadata": {},
   "outputs": [],
   "source": [
    "path = '/home/larisa/projects/dtc_archive/datatalksclub.github.io'\n",
    "people_files = glob(path + '/_people/*.md')"
   ]
  },
  {
   "cell_type": "code",
   "execution_count": 46,
   "id": "4ae10287",
   "metadata": {},
   "outputs": [
    {
     "name": "stderr",
     "output_type": "stream",
     "text": [
      " 67%|██████████████████████████             | 126/189 [00:00<00:00, 1218.99it/s]"
     ]
    },
    {
     "name": "stdout",
     "output_type": "stream",
     "text": [
      "/home/larisa/projects/dtc_archive/datatalksclub.github.io/_people/janschlicht.md\n",
      "/home/larisa/projects/dtc_archive/datatalksclub.github.io/_people/ellenkonig.md\n",
      "/home/larisa/projects/dtc_archive/datatalksclub.github.io/_people/meysamasgarichenaghlu.md\n",
      "/home/larisa/projects/dtc_archive/datatalksclub.github.io/_people/16rahuljain.md\n",
      "/home/larisa/projects/dtc_archive/datatalksclub.github.io/_people/elenitziritazacharatou.md\n",
      "/home/larisa/projects/dtc_archive/datatalksclub.github.io/_people/agnieszkamikolajczyk.md\n",
      "/home/larisa/projects/dtc_archive/datatalksclub.github.io/_people/aparnadhinakaran.md\n",
      "/home/larisa/projects/dtc_archive/datatalksclub.github.io/_people/swyx.md\n",
      "/home/larisa/projects/dtc_archive/datatalksclub.github.io/_people/arpitchoudhury.md\n",
      "/home/larisa/projects/dtc_archive/datatalksclub.github.io/_people/rustemfeyzkhanov.md\n",
      "/home/larisa/projects/dtc_archive/datatalksclub.github.io/_people/jensalbrecht.md\n",
      "/home/larisa/projects/dtc_archive/datatalksclub.github.io/_people/denisegosnell.md\n",
      "/home/larisa/projects/dtc_archive/datatalksclub.github.io/_people/sararobinson.md\n",
      "/home/larisa/projects/dtc_archive/datatalksclub.github.io/_people/orlandohohmeier.md\n",
      "/home/larisa/projects/dtc_archive/datatalksclub.github.io/_people/olegnovikov.md\n",
      "/home/larisa/projects/dtc_archive/datatalksclub.github.io/_people/nastasiasaby.md\n",
      "/home/larisa/projects/dtc_archive/datatalksclub.github.io/_people/tomaszlelek.md\n",
      "/home/larisa/projects/dtc_archive/datatalksclub.github.io/_people/saramenefee.md\n",
      "/home/larisa/projects/dtc_archive/datatalksclub.github.io/_people/vinvashishta.md\n",
      "/home/larisa/projects/dtc_archive/datatalksclub.github.io/_people/alicjanotowska.md\n",
      "/home/larisa/projects/dtc_archive/datatalksclub.github.io/_people/nourkaressli.md\n",
      "/home/larisa/projects/dtc_archive/datatalksclub.github.io/_people/miguelmorales.md\n",
      "/home/larisa/projects/dtc_archive/datatalksclub.github.io/_people/sidharthramachandran.md\n",
      "/home/larisa/projects/dtc_archive/datatalksclub.github.io/_people/paulorland.md\n",
      "/home/larisa/projects/dtc_archive/datatalksclub.github.io/_people/sivanbiham.md\n",
      "/home/larisa/projects/dtc_archive/datatalksclub.github.io/_people/carminepaolino.md\n",
      "/home/larisa/projects/dtc_archive/datatalksclub.github.io/_people/alexioannides.md\n",
      "/home/larisa/projects/dtc_archive/datatalksclub.github.io/_people/ankurapatel.md\n",
      "/home/larisa/projects/dtc_archive/datatalksclub.github.io/_people/ivanbilan.md\n",
      "/home/larisa/projects/dtc_archive/datatalksclub.github.io/_people/adamsroka.md\n",
      "/home/larisa/projects/dtc_archive/datatalksclub.github.io/_people/demetriosbrinkmann.md\n",
      "/home/larisa/projects/dtc_archive/datatalksclub.github.io/_people/danbecker.md\n",
      "/home/larisa/projects/dtc_archive/datatalksclub.github.io/_people/christophmolnar.md\n",
      "/home/larisa/projects/dtc_archive/datatalksclub.github.io/_people/hanneshapke.md\n",
      "/home/larisa/projects/dtc_archive/datatalksclub.github.io/_people/michaelmunn.md\n",
      "/home/larisa/projects/dtc_archive/datatalksclub.github.io/_people/rachaeltatman.md\n",
      "/home/larisa/projects/dtc_archive/datatalksclub.github.io/_people/artemiifrolov.md\n",
      "/home/larisa/projects/dtc_archive/datatalksclub.github.io/_people/roksolanadiachuk.md\n",
      "/home/larisa/projects/dtc_archive/datatalksclub.github.io/_people/lukewhipps.md\n",
      "/home/larisa/projects/dtc_archive/datatalksclub.github.io/_people/noahgift.md\n",
      "/home/larisa/projects/dtc_archive/datatalksclub.github.io/_people/davidmertz.md\n",
      "/home/larisa/projects/dtc_archive/datatalksclub.github.io/_people/barbarasobkowiak.md\n",
      "/home/larisa/projects/dtc_archive/datatalksclub.github.io/_people/alexchung.md\n",
      "/home/larisa/projects/dtc_archive/datatalksclub.github.io/_people/savasyildirim.md\n",
      "/home/larisa/projects/dtc_archive/datatalksclub.github.io/_people/soledadgalli.md\n",
      "/home/larisa/projects/dtc_archive/datatalksclub.github.io/_people/markryan.md\n",
      "/home/larisa/projects/dtc_archive/datatalksclub.github.io/_people/mikiobraun.md\n",
      "/home/larisa/projects/dtc_archive/datatalksclub.github.io/_people/joshtobin.md\n",
      "/home/larisa/projects/dtc_archive/datatalksclub.github.io/_people/barrmoses.md\n",
      "/home/larisa/projects/dtc_archive/datatalksclub.github.io/_people/emilbogomolov.md\n",
      "/home/larisa/projects/dtc_archive/datatalksclub.github.io/_people/rahuljain.md\n",
      "/home/larisa/projects/dtc_archive/datatalksclub.github.io/_people/larysavisengeriyeva.md\n",
      "/home/larisa/projects/dtc_archive/datatalksclub.github.io/_people/emmanuelraj.md\n",
      "/home/larisa/projects/dtc_archive/datatalksclub.github.io/_people/victoriaperezmola.md\n",
      "/home/larisa/projects/dtc_archive/datatalksclub.github.io/_people/nataliekwong.md\n",
      "/home/larisa/projects/dtc_archive/datatalksclub.github.io/_people/maxschultze.md\n",
      "/home/larisa/projects/dtc_archive/datatalksclub.github.io/_people/jonskeet.md\n",
      "/home/larisa/projects/dtc_archive/datatalksclub.github.io/_people/raghavbali.md\n",
      "/home/larisa/projects/dtc_archive/datatalksclub.github.io/_people/kenyouens-clark.md\n",
      "/home/larisa/projects/dtc_archive/datatalksclub.github.io/_people/giuseppebonaccorso.md\n",
      "/home/larisa/projects/dtc_archive/datatalksclub.github.io/_people/jessiashdown.md\n",
      "/home/larisa/projects/dtc_archive/datatalksclub.github.io/_people/tatyjanaankudo.md\n",
      "/home/larisa/projects/dtc_archive/datatalksclub.github.io/_people/igorsusmelj.md\n",
      "/home/larisa/projects/dtc_archive/datatalksclub.github.io/_people/dannyma.md\n",
      "/home/larisa/projects/dtc_archive/datatalksclub.github.io/_people/iliaivanov.md\n",
      "/home/larisa/projects/dtc_archive/datatalksclub.github.io/_people/christianwinkler.md\n",
      "/home/larisa/projects/dtc_archive/datatalksclub.github.io/_people/sedatkapanoglu.md\n",
      "/home/larisa/projects/dtc_archive/datatalksclub.github.io/_people/svpino.md\n",
      "/home/larisa/projects/dtc_archive/datatalksclub.github.io/_people/davidstephenson.md\n",
      "/home/larisa/projects/dtc_archive/datatalksclub.github.io/_people/sauravmaheshkar.md\n",
      "/home/larisa/projects/dtc_archive/datatalksclub.github.io/_people/juanpablo.md\n",
      "/home/larisa/projects/dtc_archive/datatalksclub.github.io/_people/davidgates.md\n",
      "/home/larisa/projects/dtc_archive/datatalksclub.github.io/_people/vincenttatan.md\n",
      "/home/larisa/projects/dtc_archive/datatalksclub.github.io/_people/geojolly.md\n",
      "/home/larisa/projects/dtc_archive/datatalksclub.github.io/_people/sergmasis.md\n",
      "/home/larisa/projects/dtc_archive/datatalksclub.github.io/_people/eliasnema.md\n",
      "/home/larisa/projects/dtc_archive/datatalksclub.github.io/_people/caitlinmoorman.md\n",
      "/home/larisa/projects/dtc_archive/datatalksclub.github.io/_people/valeriybabushkin.md\n",
      "/home/larisa/projects/dtc_archive/datatalksclub.github.io/_people/admondleekinlim.md\n",
      "/home/larisa/projects/dtc_archive/datatalksclub.github.io/_people/manojkukreja.md\n",
      "/home/larisa/projects/dtc_archive/datatalksclub.github.io/_people/kimfalk.md\n",
      "/home/larisa/projects/dtc_archive/datatalksclub.github.io/_people/donjones.md\n",
      "/home/larisa/projects/dtc_archive/datatalksclub.github.io/_people/yurykashnitsky.md\n",
      "/home/larisa/projects/dtc_archive/datatalksclub.github.io/_people/sejalvaidya.md\n",
      "/home/larisa/projects/dtc_archive/datatalksclub.github.io/_people/padmachitturi.md\n",
      "/home/larisa/projects/dtc_archive/datatalksclub.github.io/_people/vincentwarmerdam.md\n",
      "/home/larisa/projects/dtc_archive/datatalksclub.github.io/_people/olegpolivin.md\n",
      "/home/larisa/projects/dtc_archive/datatalksclub.github.io/_people/villetuulos.md\n",
      "/home/larisa/projects/dtc_archive/datatalksclub.github.io/_people/guyadams.md\n",
      "/home/larisa/projects/dtc_archive/datatalksclub.github.io/_people/elleobrien.md\n",
      "/home/larisa/projects/dtc_archive/datatalksclub.github.io/_people/naominguyen.md\n",
      "/home/larisa/projects/dtc_archive/datatalksclub.github.io/_people/dougturnbull.md\n",
      "/home/larisa/projects/dtc_archive/datatalksclub.github.io/_people/pierpaoloippolito.md\n",
      "/home/larisa/projects/dtc_archive/datatalksclub.github.io/_people/liesbethdingemans.md\n",
      "/home/larisa/projects/dtc_archive/datatalksclub.github.io/_people/stefanjansen.md\n",
      "/home/larisa/projects/dtc_archive/datatalksclub.github.io/_people/mereltheisen.md\n",
      "/home/larisa/projects/dtc_archive/datatalksclub.github.io/_people/ericsims.md\n",
      "/home/larisa/projects/dtc_archive/datatalksclub.github.io/_people/meoramer.md\n",
      "/home/larisa/projects/dtc_archive/datatalksclub.github.io/_people/theofilospapapanagiotou.md\n",
      "/home/larisa/projects/dtc_archive/datatalksclub.github.io/_people/magdalenakonkiewicz.md\n",
      "/home/larisa/projects/dtc_archive/datatalksclub.github.io/_people/aaronwishnick.md\n",
      "/home/larisa/projects/dtc_archive/datatalksclub.github.io/_people/dannyleybzon.md\n",
      "/home/larisa/projects/dtc_archive/datatalksclub.github.io/_people/fabianaclemente.md\n",
      "/home/larisa/projects/dtc_archive/datatalksclub.github.io/_people/alexeygrigorev.md\n",
      "/home/larisa/projects/dtc_archive/datatalksclub.github.io/_people/linaweichbrodt.md\n",
      "/home/larisa/projects/dtc_archive/datatalksclub.github.io/_people/jeanineharb.md\n",
      "/home/larisa/projects/dtc_archive/datatalksclub.github.io/_people/agnesvanbelle.md\n",
      "/home/larisa/projects/dtc_archive/datatalksclub.github.io/_people/dmitrymuzalevskiy.md\n",
      "/home/larisa/projects/dtc_archive/datatalksclub.github.io/_people/martinkleppmann.md\n",
      "/home/larisa/projects/dtc_archive/datatalksclub.github.io/_people/kevinhuo.md\n",
      "/home/larisa/projects/dtc_archive/datatalksclub.github.io/_people/cjjenkins.md\n",
      "/home/larisa/projects/dtc_archive/datatalksclub.github.io/_people/willempienaar.md\n",
      "/home/larisa/projects/dtc_archive/datatalksclub.github.io/_people/laurencemoroney.md\n",
      "/home/larisa/projects/dtc_archive/datatalksclub.github.io/_people/andradaolteanu.md\n",
      "/home/larisa/projects/dtc_archive/datatalksclub.github.io/_people/susanwalsh.md\n",
      "/home/larisa/projects/dtc_archive/datatalksclub.github.io/_people/jonathanrioux.md\n",
      "/home/larisa/projects/dtc_archive/datatalksclub.github.io/_people/marijnmarkus.md\n",
      "/home/larisa/projects/dtc_archive/datatalksclub.github.io/_people/_template.md\n",
      "/home/larisa/projects/dtc_archive/datatalksclub.github.io/_people/andypetrella.md\n",
      "/home/larisa/projects/dtc_archive/datatalksclub.github.io/_people/filipacastro.md\n",
      "/home/larisa/projects/dtc_archive/datatalksclub.github.io/_people/eugeneyan.md\n",
      "/home/larisa/projects/dtc_archive/datatalksclub.github.io/_people/emelidral.md\n",
      "/home/larisa/projects/dtc_archive/datatalksclub.github.io/_people/illiatodor.md\n",
      "/home/larisa/projects/dtc_archive/datatalksclub.github.io/_people/tatianagabruseva.md\n",
      "/home/larisa/projects/dtc_archive/datatalksclub.github.io/_people/nickbilozerov.md\n",
      "/home/larisa/projects/dtc_archive/datatalksclub.github.io/_people/lindsaymcquade.md\n",
      "/home/larisa/projects/dtc_archive/datatalksclub.github.io/_people/mattharrison.md\n",
      "/home/larisa/projects/dtc_archive/datatalksclub.github.io/_people/jesseanderson.md\n",
      "/home/larisa/projects/dtc_archive/datatalksclub.github.io/_people/andreschumacher.md\n",
      "/home/larisa/projects/dtc_archive/datatalksclub.github.io/_people/neallathia.md\n",
      "/home/larisa/projects/dtc_archive/datatalksclub.github.io/_people/andreaskretz.md\n",
      "/home/larisa/projects/dtc_archive/datatalksclub.github.io/_people/dalianaliu.md\n",
      "/home/larisa/projects/dtc_archive/datatalksclub.github.io/_people/gantlaborde.md\n",
      "/home/larisa/projects/dtc_archive/datatalksclub.github.io/_people/larsalbertsson.md\n",
      "/home/larisa/projects/dtc_archive/datatalksclub.github.io/_people/royjafari.md\n",
      "/home/larisa/projects/dtc_archive/datatalksclub.github.io/_people/rishabhbhargava.md\n",
      "/home/larisa/projects/dtc_archive/datatalksclub.github.io/_people/janzawadzki.md\n",
      "/home/larisa/projects/dtc_archive/datatalksclub.github.io/_people/lalitpagaria.md\n",
      "/home/larisa/projects/dtc_archive/datatalksclub.github.io/_people/srivathsancanchi.md\n",
      "/home/larisa/projects/dtc_archive/datatalksclub.github.io/_people/mahmoudaziz.md\n"
     ]
    },
    {
     "name": "stdout",
     "output_type": "stream",
     "text": [
      "/home/larisa/projects/dtc_archive/datatalksclub.github.io/_people/himanshuupreti.md\n",
      "/home/larisa/projects/dtc_archive/datatalksclub.github.io/_people/philwinder.md\n",
      "/home/larisa/projects/dtc_archive/datatalksclub.github.io/_people/anthonyvirtuoso.md\n",
      "/home/larisa/projects/dtc_archive/datatalksclub.github.io/_people/marcellolarocca.md\n",
      "/home/larisa/projects/dtc_archive/datatalksclub.github.io/_people/jakobgraff.md\n",
      "/home/larisa/projects/dtc_archive/datatalksclub.github.io/_people/itaiadmi.md\n",
      "/home/larisa/projects/dtc_archive/datatalksclub.github.io/_people/alexpetrov.md\n",
      "/home/larisa/projects/dtc_archive/datatalksclub.github.io/_people/antjebarth.md\n",
      "/home/larisa/projects/dtc_archive/datatalksclub.github.io/_people/andrewmcmahon.md\n",
      "/home/larisa/projects/dtc_archive/datatalksclub.github.io/_people/davebechberger.md\n",
      "/home/larisa/projects/dtc_archive/datatalksclub.github.io/_people/marianosemelman.md\n",
      "/home/larisa/projects/dtc_archive/datatalksclub.github.io/_people/kyleshannon.md\n",
      "/home/larisa/projects/dtc_archive/datatalksclub.github.io/_people/kateogochukwunwankwo.md\n",
      "/home/larisa/projects/dtc_archive/datatalksclub.github.io/_people/jacquespeeters.md\n",
      "/home/larisa/projects/dtc_archive/datatalksclub.github.io/_people/bentaylor.md\n",
      "/home/larisa/projects/dtc_archive/datatalksclub.github.io/_people/romangrebennikov.md\n",
      "/home/larisa/projects/dtc_archive/datatalksclub.github.io/_people/thomives.md\n",
      "/home/larisa/projects/dtc_archive/datatalksclub.github.io/_people/benwilson.md\n",
      "/home/larisa/projects/dtc_archive/datatalksclub.github.io/_people/alexiaaudevart.md\n",
      "/home/larisa/projects/dtc_archive/datatalksclub.github.io/_people/grainnemcknight.md\n",
      "/home/larisa/projects/dtc_archive/datatalksclub.github.io/_people/denisrothman.md\n",
      "/home/larisa/projects/dtc_archive/datatalksclub.github.io/_people/chrisfregly.md\n",
      "/home/larisa/projects/dtc_archive/datatalksclub.github.io/_people/elenasamuylova.md\n",
      "/home/larisa/projects/dtc_archive/datatalksclub.github.io/_people/gregcoquillo.md\n",
      "/home/larisa/projects/dtc_archive/datatalksclub.github.io/_people/mariannadiachuk.md\n",
      "/home/larisa/projects/dtc_archive/datatalksclub.github.io/_people/jessieyaros.md\n",
      "/home/larisa/projects/dtc_archive/datatalksclub.github.io/_people/luisserrano.md\n",
      "/home/larisa/projects/dtc_archive/datatalksclub.github.io/_people/yuliapavlova.md\n",
      "/home/larisa/projects/dtc_archive/datatalksclub.github.io/_people/nishantmohan.md\n",
      "/home/larisa/projects/dtc_archive/datatalksclub.github.io/_people/nicksingh.md\n",
      "/home/larisa/projects/dtc_archive/datatalksclub.github.io/_people/emmanuelameisen.md\n",
      "/home/larisa/projects/dtc_archive/datatalksclub.github.io/_people/ksenialegostay.md\n",
      "/home/larisa/projects/dtc_archive/datatalksclub.github.io/_people/arsenykravchenko.md\n"
     ]
    },
    {
     "name": "stderr",
     "output_type": "stream",
     "text": [
      "\r",
      "100%|████████████████████████████████████████| 189/189 [00:00<00:00, 366.48it/s]"
     ]
    },
    {
     "name": "stdout",
     "output_type": "stream",
     "text": [
      "/home/larisa/projects/dtc_archive/datatalksclub.github.io/_people/mervenoyan.md\n",
      "/home/larisa/projects/dtc_archive/datatalksclub.github.io/_people/tammyliang.md\n",
      "/home/larisa/projects/dtc_archive/datatalksclub.github.io/_people/nielsenaileen.md\n",
      "/home/larisa/projects/dtc_archive/datatalksclub.github.io/_people/mihaileric.md\n",
      "/home/larisa/projects/dtc_archive/datatalksclub.github.io/_people/dattran.md\n",
      "/home/larisa/projects/dtc_archive/datatalksclub.github.io/_people/wendymak.md\n",
      "/home/larisa/projects/dtc_archive/datatalksclub.github.io/_people/cristianmartinez.md\n",
      "/home/larisa/projects/dtc_archive/datatalksclub.github.io/_people/liorbarak.md\n",
      "/home/larisa/projects/dtc_archive/datatalksclub.github.io/_people/olgapetrova.md\n",
      "/home/larisa/projects/dtc_archive/datatalksclub.github.io/_people/parulpandey.md\n",
      "/home/larisa/projects/dtc_archive/datatalksclub.github.io/_people/prateekjoshi.md\n",
      "/home/larisa/projects/dtc_archive/datatalksclub.github.io/_people/marcodesa.md\n",
      "/home/larisa/projects/dtc_archive/datatalksclub.github.io/_people/duygualtinok.md\n",
      "/home/larisa/projects/dtc_archive/datatalksclub.github.io/_people/davidsweet.md\n",
      "/home/larisa/projects/dtc_archive/datatalksclub.github.io/_people/urigilad.md\n",
      "/home/larisa/projects/dtc_archive/datatalksclub.github.io/_people/maximlukichev.md\n"
     ]
    },
    {
     "name": "stderr",
     "output_type": "stream",
     "text": [
      "\n"
     ]
    }
   ],
   "source": [
    "for person_file in tqdm(people_files):\n",
    "    print(person_file)\n",
    "    if person_file.endswith('_template.md'):\n",
    "        continue\n",
    "    \n",
    "    person_fm = frontmatter.load(person_file)\n",
    "\n",
    "    person = Person()\n",
    "    person.id = person_fm['short']\n",
    "    person.name = person_fm['title']\n",
    "    person.bio = person_fm.content\n",
    "    person.profile_image = f\"https://datatalks.club/{person_fm['picture']}\"\n",
    "\n",
    "    socials = []\n",
    "\n",
    "    if 'github' in person_fm:\n",
    "        github = person_fm['github']\n",
    "        if github:\n",
    "            socials.append({\n",
    "                'type': 'github',\n",
    "                'link': f'https://github.com/{github}'\n",
    "            })\n",
    "\n",
    "    if 'twitter' in person_fm:\n",
    "        twitter = person_fm['twitter']\n",
    "        if twitter:\n",
    "            socials.append({\n",
    "                'type': 'twitter',\n",
    "                'link': f'https://twitter.com/{twitter}'\n",
    "            })\n",
    "\n",
    "    if 'linkedin' in person_fm:\n",
    "        linkedin = person_fm['linkedin']\n",
    "        if linkedin:\n",
    "            socials.append({\n",
    "                'type': 'linkedin',\n",
    "                'link': f'https://linkedin.com/in/{linkedin}'\n",
    "            })\n",
    "\n",
    "    if 'web' in person_fm:\n",
    "        web = person_fm['web']\n",
    "        if web:\n",
    "            socials.append({\n",
    "                'type': 'web',\n",
    "                'link': web\n",
    "            })\n",
    "\n",
    "    person.socials = socials\n",
    "    person.save()"
   ]
  },
  {
   "cell_type": "code",
   "execution_count": null,
   "id": "30e82b27",
   "metadata": {},
   "outputs": [],
   "source": []
  },
  {
   "cell_type": "code",
   "execution_count": 47,
   "id": "188b7b90",
   "metadata": {},
   "outputs": [
    {
     "data": {
      "text/plain": [
       "<QuerySet [<Person: ololo>, <Person: ololo2>, <Person: janschlicht>, <Person: ellenkonig>, <Person: meysamasgarichenaghlu>, <Person: 16rahuljain>, <Person: elenitziritazacharatou>, <Person: agnieszkamikolajczyk>, <Person: aparnadhinakaran>, <Person: swyx>, <Person: arpitchoudhury>, <Person: rustemfeyzkhanov>, <Person: jensalbrecht>, <Person: denisegosnell>, <Person: sararobinson>, <Person: orlandohohmeier>, <Person: olegnovikov>, <Person: nastasiasaby>, <Person: tomaszlelek>, <Person: saramenefee>, '...(remaining elements truncated)...']>"
      ]
     },
     "execution_count": 47,
     "metadata": {},
     "output_type": "execute_result"
    }
   ],
   "source": [
    "Person.objects.all()"
   ]
  },
  {
   "cell_type": "code",
   "execution_count": null,
   "id": "5a7c302c",
   "metadata": {},
   "outputs": [],
   "source": []
  }
 ],
 "metadata": {
  "kernelspec": {
   "display_name": "dtc-django",
   "language": "python",
   "name": "dtc-django"
  },
  "language_info": {
   "codemirror_mode": {
    "name": "ipython",
    "version": 3
   },
   "file_extension": ".py",
   "mimetype": "text/x-python",
   "name": "python",
   "nbconvert_exporter": "python",
   "pygments_lexer": "ipython3",
   "version": "3.8.10"
  }
 },
 "nbformat": 4,
 "nbformat_minor": 5
}
