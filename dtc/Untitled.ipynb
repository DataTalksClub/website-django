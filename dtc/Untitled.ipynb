{
 "cells": [
  {
   "cell_type": "code",
   "execution_count": 26,
   "id": "8f99552a",
   "metadata": {},
   "outputs": [],
   "source": [
    "import os\n",
    "\n",
    "os.environ.setdefault(\"DJANGO_SETTINGS_MODULE\", \"dtc.settings\")\n",
    "os.environ[\"DJANGO_ALLOW_ASYNC_UNSAFE\"] = \"true\""
   ]
  },
  {
   "cell_type": "code",
   "execution_count": 3,
   "id": "fedfba02",
   "metadata": {},
   "outputs": [],
   "source": [
    "import django\n",
    "django.setup()"
   ]
  },
  {
   "cell_type": "code",
   "execution_count": 7,
   "id": "306d4055",
   "metadata": {},
   "outputs": [],
   "source": [
    "from root.models import *"
   ]
  },
  {
   "cell_type": "code",
   "execution_count": 33,
   "id": "48b036ba",
   "metadata": {},
   "outputs": [],
   "source": [
    "person = Person()\n",
    "person.id = 'ololo2'\n",
    "person.name = \"Ololo Ololoew\"\n",
    "person.bio = 'umen ne po godam'\n",
    "person.profile_image = 'https://pbs.twimg.com/profile_images/2566324472/rxg189yss7hpydrrpvgt_400x400.jpeg'\n",
    "person.save()"
   ]
  },
  {
   "cell_type": "code",
   "execution_count": null,
   "id": "30e82b27",
   "metadata": {},
   "outputs": [],
   "source": []
  },
  {
   "cell_type": "code",
   "execution_count": 34,
   "id": "188b7b90",
   "metadata": {},
   "outputs": [
    {
     "data": {
      "text/plain": [
       "<QuerySet [<Person: ololo>, <Person: ololo2>]>"
      ]
     },
     "execution_count": 34,
     "metadata": {},
     "output_type": "execute_result"
    }
   ],
   "source": [
    "Person.objects.all()"
   ]
  },
  {
   "cell_type": "code",
   "execution_count": null,
   "id": "5a7c302c",
   "metadata": {},
   "outputs": [],
   "source": []
  }
 ],
 "metadata": {
  "kernelspec": {
   "display_name": "dtc-django",
   "language": "python",
   "name": "dtc-django"
  },
  "language_info": {
   "codemirror_mode": {
    "name": "ipython",
    "version": 3
   },
   "file_extension": ".py",
   "mimetype": "text/x-python",
   "name": "python",
   "nbconvert_exporter": "python",
   "pygments_lexer": "ipython3",
   "version": "3.8.10"
  }
 },
 "nbformat": 4,
 "nbformat_minor": 5
}
